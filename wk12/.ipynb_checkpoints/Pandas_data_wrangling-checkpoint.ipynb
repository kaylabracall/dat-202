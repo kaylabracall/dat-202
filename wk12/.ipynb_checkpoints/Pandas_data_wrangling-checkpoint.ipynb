{
 "cells": [
  {
   "cell_type": "markdown",
   "metadata": {},
   "source": [
    "# Pandas\n",
    "\n",
    "This module assumes you've had some previous exposure to Pandas (so, we're not going into detail about what a dataframe is, for instance), but it's all right if you don't remember all the details. \n",
    "\n",
    "First, we'll import Pandas in the traditional way:"
   ]
  },
  {
   "cell_type": "code",
   "execution_count": 1,
   "metadata": {},
   "outputs": [],
   "source": [
    "import pandas as pd"
   ]
  },
  {
   "cell_type": "markdown",
   "metadata": {},
   "source": [
    "Next, we'll read a CSV into a dataframe. \n",
    "\n",
    "In this case, we're using the \"lifetime\" dataset of Allegheny County dog licenses from the [Western PA Regional Data Center](https://data.wprdc.org/dataset/allegheny-county-dog-licenses). The only change I've made to this file, prior to importing it, was changing the filename to \"dog_licenses.csv.\" Otherwise, the data, column headers, etc. are all the same as the file at WPRDC."
   ]
  },
  {
   "cell_type": "code",
   "execution_count": 2,
   "metadata": {},
   "outputs": [
    {
     "data": {
      "text/html": [
       "<div>\n",
       "<style scoped>\n",
       "    .dataframe tbody tr th:only-of-type {\n",
       "        vertical-align: middle;\n",
       "    }\n",
       "\n",
       "    .dataframe tbody tr th {\n",
       "        vertical-align: top;\n",
       "    }\n",
       "\n",
       "    .dataframe thead th {\n",
       "        text-align: right;\n",
       "    }\n",
       "</style>\n",
       "<table border=\"1\" class=\"dataframe\">\n",
       "  <thead>\n",
       "    <tr style=\"text-align: right;\">\n",
       "      <th></th>\n",
       "      <th>LicenseType</th>\n",
       "      <th>Breed</th>\n",
       "      <th>Color</th>\n",
       "      <th>DogName</th>\n",
       "      <th>OwnerZip</th>\n",
       "      <th>ExpYear</th>\n",
       "      <th>ValidDate</th>\n",
       "    </tr>\n",
       "  </thead>\n",
       "  <tbody>\n",
       "    <tr>\n",
       "      <th>0</th>\n",
       "      <td>Dog Lifetime Neutered Male</td>\n",
       "      <td>POODLE MIN</td>\n",
       "      <td>WHITE/BLACK/GREY</td>\n",
       "      <td>BAILEY</td>\n",
       "      <td>15137</td>\n",
       "      <td>2099</td>\n",
       "      <td>2005-08-08</td>\n",
       "    </tr>\n",
       "    <tr>\n",
       "      <th>1</th>\n",
       "      <td>Dog Lifetime Neutered Male</td>\n",
       "      <td>AM PIT BULL TERRIER</td>\n",
       "      <td>BRINDLE</td>\n",
       "      <td>SPENCER</td>\n",
       "      <td>15045</td>\n",
       "      <td>2099</td>\n",
       "      <td>2006-03-07</td>\n",
       "    </tr>\n",
       "    <tr>\n",
       "      <th>2</th>\n",
       "      <td>Dog Lifetime Spayed Female</td>\n",
       "      <td>DALMATIAN</td>\n",
       "      <td>SPOTTED</td>\n",
       "      <td>CLEO</td>\n",
       "      <td>15110</td>\n",
       "      <td>2099</td>\n",
       "      <td>2005-08-08</td>\n",
       "    </tr>\n",
       "    <tr>\n",
       "      <th>3</th>\n",
       "      <td>Dog Senior Lifetime Neutered Male</td>\n",
       "      <td>COCKER SPANIEL</td>\n",
       "      <td>BUFF</td>\n",
       "      <td>HARLEY</td>\n",
       "      <td>15236</td>\n",
       "      <td>2099</td>\n",
       "      <td>2005-08-08</td>\n",
       "    </tr>\n",
       "    <tr>\n",
       "      <th>4</th>\n",
       "      <td>Dog Lifetime Spayed Female</td>\n",
       "      <td>CHIHUAHUA</td>\n",
       "      <td>WHITE/BROWN</td>\n",
       "      <td>ANGEL</td>\n",
       "      <td>15216</td>\n",
       "      <td>2099</td>\n",
       "      <td>2005-08-08</td>\n",
       "    </tr>\n",
       "  </tbody>\n",
       "</table>\n",
       "</div>"
      ],
      "text/plain": [
       "                         LicenseType                Breed             Color  \\\n",
       "0         Dog Lifetime Neutered Male           POODLE MIN  WHITE/BLACK/GREY   \n",
       "1         Dog Lifetime Neutered Male  AM PIT BULL TERRIER           BRINDLE   \n",
       "2         Dog Lifetime Spayed Female            DALMATIAN           SPOTTED   \n",
       "3  Dog Senior Lifetime Neutered Male       COCKER SPANIEL              BUFF   \n",
       "4         Dog Lifetime Spayed Female            CHIHUAHUA       WHITE/BROWN   \n",
       "\n",
       "   DogName  OwnerZip  ExpYear  ValidDate  \n",
       "0   BAILEY     15137     2099 2005-08-08  \n",
       "1  SPENCER     15045     2099 2006-03-07  \n",
       "2     CLEO     15110     2099 2005-08-08  \n",
       "3   HARLEY     15236     2099 2005-08-08  \n",
       "4    ANGEL     15216     2099 2005-08-08  "
      ]
     },
     "execution_count": 2,
     "metadata": {},
     "output_type": "execute_result"
    }
   ],
   "source": [
    "# you have to love how easy it is to pull a CSV into a dataframe\n",
    "# (you make your life MUCH easier if you deal with datetimes on input)\n",
    "licenses = pd.read_csv(\"dog_licenses.csv\", parse_dates=[\"ValidDate\"])\n",
    "\n",
    "# show the beginning of the file\n",
    "licenses.head()"
   ]
  },
  {
   "cell_type": "markdown",
   "metadata": {},
   "source": [
    "Pandas will tell us the facts we need to know about our data."
   ]
  },
  {
   "cell_type": "code",
   "execution_count": 3,
   "metadata": {},
   "outputs": [
    {
     "name": "stdout",
     "output_type": "stream",
     "text": [
      "Shape, (rows, columns): (33156, 7) \n",
      "\n",
      "Size: 232092 \n",
      "\n",
      "Data type of items: LicenseType            object\n",
      "Breed                  object\n",
      "Color                  object\n",
      "DogName                object\n",
      "OwnerZip                int64\n",
      "ExpYear                 int64\n",
      "ValidDate      datetime64[ns]\n",
      "dtype: object \n",
      "\n"
     ]
    }
   ],
   "source": [
    "print(\"Shape, (rows, columns):\", licenses.shape, \"\\n\")\n",
    "print(\"Size:\", licenses.size, \"\\n\")\n",
    "print(\"Data type of items:\", licenses.dtypes, \"\\n\")"
   ]
  },
  {
   "cell_type": "code",
   "execution_count": 4,
   "metadata": {},
   "outputs": [
    {
     "data": {
      "text/html": [
       "<div>\n",
       "<style scoped>\n",
       "    .dataframe tbody tr th:only-of-type {\n",
       "        vertical-align: middle;\n",
       "    }\n",
       "\n",
       "    .dataframe tbody tr th {\n",
       "        vertical-align: top;\n",
       "    }\n",
       "\n",
       "    .dataframe thead th {\n",
       "        text-align: right;\n",
       "    }\n",
       "</style>\n",
       "<table border=\"1\" class=\"dataframe\">\n",
       "  <thead>\n",
       "    <tr style=\"text-align: right;\">\n",
       "      <th></th>\n",
       "      <th>OwnerZip</th>\n",
       "      <th>ExpYear</th>\n",
       "    </tr>\n",
       "  </thead>\n",
       "  <tbody>\n",
       "    <tr>\n",
       "      <th>count</th>\n",
       "      <td>33156.000000</td>\n",
       "      <td>33156.0</td>\n",
       "    </tr>\n",
       "    <tr>\n",
       "      <th>mean</th>\n",
       "      <td>15156.003197</td>\n",
       "      <td>2099.0</td>\n",
       "    </tr>\n",
       "    <tr>\n",
       "      <th>std</th>\n",
       "      <td>298.770228</td>\n",
       "      <td>0.0</td>\n",
       "    </tr>\n",
       "    <tr>\n",
       "      <th>min</th>\n",
       "      <td>15003.000000</td>\n",
       "      <td>2099.0</td>\n",
       "    </tr>\n",
       "    <tr>\n",
       "      <th>25%</th>\n",
       "      <td>15102.000000</td>\n",
       "      <td>2099.0</td>\n",
       "    </tr>\n",
       "    <tr>\n",
       "      <th>50%</th>\n",
       "      <td>15137.000000</td>\n",
       "      <td>2099.0</td>\n",
       "    </tr>\n",
       "    <tr>\n",
       "      <th>75%</th>\n",
       "      <td>15228.000000</td>\n",
       "      <td>2099.0</td>\n",
       "    </tr>\n",
       "    <tr>\n",
       "      <th>max</th>\n",
       "      <td>47909.000000</td>\n",
       "      <td>2099.0</td>\n",
       "    </tr>\n",
       "  </tbody>\n",
       "</table>\n",
       "</div>"
      ],
      "text/plain": [
       "           OwnerZip  ExpYear\n",
       "count  33156.000000  33156.0\n",
       "mean   15156.003197   2099.0\n",
       "std      298.770228      0.0\n",
       "min    15003.000000   2099.0\n",
       "25%    15102.000000   2099.0\n",
       "50%    15137.000000   2099.0\n",
       "75%    15228.000000   2099.0\n",
       "max    47909.000000   2099.0"
      ]
     },
     "execution_count": 4,
     "metadata": {},
     "output_type": "execute_result"
    }
   ],
   "source": [
    "# and we can get descriptive statistics, of a sort,\n",
    "# for the two columns it considers \"numeric\"\n",
    "licenses.describe()"
   ]
  },
  {
   "cell_type": "markdown",
   "metadata": {},
   "source": [
    "It's good to know about `.describe()`, but honestly, neither of those columns should be described statistically. One's a zip code (a categorical variable, probably best handled as a string), and the other's a year, which is probably OK as an int, provided we don't do silly things like summing or averaging it.\n",
    "\n",
    "### Changing the data type of a column\n",
    "\n",
    "Actually, it's really straightforward! (Unless you're changing not-a-datetime to a datetime, which is part of why I try to parse them as I pull them in.)\n",
    "\n",
    "Tell Pandas which columns you want to change, and use `.astype(\"type\")` to set each one."
   ]
  },
  {
   "cell_type": "code",
   "execution_count": 9,
   "metadata": {},
   "outputs": [
    {
     "data": {
      "text/plain": [
       "LicenseType            string\n",
       "Breed                  string\n",
       "Color                  string\n",
       "DogName                string\n",
       "OwnerZip               string\n",
       "ExpYear                 int64\n",
       "ValidDate      datetime64[ns]\n",
       "dtype: object"
      ]
     },
     "execution_count": 9,
     "metadata": {},
     "output_type": "execute_result"
    }
   ],
   "source": [
    "# change data type of zip code field to string\n",
    "licenses[\"OwnerZip\"] = licenses[\"OwnerZip\"].astype(\"string\")\n",
    "\n",
    "# and, actually, we should really make our other strings into string types, too\n",
    "cols_list = [\"LicenseType\", \"Breed\", \"Color\", \"DogName\"]\n",
    "licenses[cols_list] = licenses[cols_list].astype(\"string\")\n",
    "\n",
    "licenses.dtypes"
   ]
  },
  {
   "cell_type": "markdown",
   "metadata": {},
   "source": [
    "## Using `.groupby()`\n",
    "\n",
    "`.groupby()` gives us the ability to look at our data in subsets and run functions on combinations of our data. \n",
    "\n",
    "The syntax is\n",
    "```Python\n",
    "smaller_df = primary_df.groupby(\"column_to_be_grouped\")[\"column_to_operate_on\"].function()\n",
    "```\n",
    "\n",
    "### grouping by a single column\n",
    "\n",
    "Let's count how many dogs are in each zip code. In this case, the \"column_to_operate_on\" is literally any column, since we're just counting."
   ]
  },
  {
   "cell_type": "code",
   "execution_count": 44,
   "metadata": {},
   "outputs": [
    {
     "data": {
      "text/plain": [
       "OwnerZip\n",
       "15003    28\n",
       "15005    43\n",
       "15006     6\n",
       "15007     9\n",
       "15012     2\n",
       "Name: DogName, dtype: int64"
      ]
     },
     "execution_count": 44,
     "metadata": {},
     "output_type": "execute_result"
    }
   ],
   "source": [
    "dogs_by_zip = licenses.groupby(\"OwnerZip\")[\"DogName\"].count()\n",
    "dogs_by_zip.head()"
   ]
  },
  {
   "cell_type": "code",
   "execution_count": 11,
   "metadata": {},
   "outputs": [
    {
     "data": {
      "text/plain": [
       "pandas.core.series.Series"
      ]
     },
     "execution_count": 11,
     "metadata": {},
     "output_type": "execute_result"
    }
   ],
   "source": [
    "# hmm\n",
    "type(dogs_by_zip)"
   ]
  },
  {
   "cell_type": "markdown",
   "metadata": {},
   "source": [
    "Often you'd really rather have a dataframe to work with than a series. If so, you can use `as_index=False` to make your groups back into a column (or, as you'll see, columns) in their own right."
   ]
  },
  {
   "cell_type": "code",
   "execution_count": 12,
   "metadata": {
    "scrolled": true
   },
   "outputs": [
    {
     "data": {
      "text/html": [
       "<div>\n",
       "<style scoped>\n",
       "    .dataframe tbody tr th:only-of-type {\n",
       "        vertical-align: middle;\n",
       "    }\n",
       "\n",
       "    .dataframe tbody tr th {\n",
       "        vertical-align: top;\n",
       "    }\n",
       "\n",
       "    .dataframe thead th {\n",
       "        text-align: right;\n",
       "    }\n",
       "</style>\n",
       "<table border=\"1\" class=\"dataframe\">\n",
       "  <thead>\n",
       "    <tr style=\"text-align: right;\">\n",
       "      <th></th>\n",
       "      <th>OwnerZip</th>\n",
       "      <th>DogName</th>\n",
       "    </tr>\n",
       "  </thead>\n",
       "  <tbody>\n",
       "    <tr>\n",
       "      <th>0</th>\n",
       "      <td>15003</td>\n",
       "      <td>28</td>\n",
       "    </tr>\n",
       "    <tr>\n",
       "      <th>1</th>\n",
       "      <td>15005</td>\n",
       "      <td>43</td>\n",
       "    </tr>\n",
       "    <tr>\n",
       "      <th>2</th>\n",
       "      <td>15006</td>\n",
       "      <td>6</td>\n",
       "    </tr>\n",
       "    <tr>\n",
       "      <th>3</th>\n",
       "      <td>15007</td>\n",
       "      <td>9</td>\n",
       "    </tr>\n",
       "    <tr>\n",
       "      <th>4</th>\n",
       "      <td>15012</td>\n",
       "      <td>2</td>\n",
       "    </tr>\n",
       "  </tbody>\n",
       "</table>\n",
       "</div>"
      ],
      "text/plain": [
       "  OwnerZip  DogName\n",
       "0    15003       28\n",
       "1    15005       43\n",
       "2    15006        6\n",
       "3    15007        9\n",
       "4    15012        2"
      ]
     },
     "execution_count": 12,
     "metadata": {},
     "output_type": "execute_result"
    }
   ],
   "source": [
    "dogs_by_zip = licenses.groupby(\"OwnerZip\", as_index=False)[\"DogName\"].count()\n",
    "dogs_by_zip.head()"
   ]
  },
  {
   "cell_type": "markdown",
   "metadata": {},
   "source": [
    "#### Renaming our columns\n",
    "\n",
    "Unsurprisingly, we use `.rename()`, but perhaps-surprisingly, it takes a dictionary as its input:\n",
    "```Python\n",
    "df = df.rename(columns = {\"old_column_name1\" : \"new_column_name1\", \"ocn2\" : \"ncn2\", ...})\n",
    "```\n",
    "\n",
    "The column where we keep the counts probably shouldn't be called \"DogName\" anymore."
   ]
  },
  {
   "cell_type": "code",
   "execution_count": 13,
   "metadata": {},
   "outputs": [
    {
     "data": {
      "text/html": [
       "<div>\n",
       "<style scoped>\n",
       "    .dataframe tbody tr th:only-of-type {\n",
       "        vertical-align: middle;\n",
       "    }\n",
       "\n",
       "    .dataframe tbody tr th {\n",
       "        vertical-align: top;\n",
       "    }\n",
       "\n",
       "    .dataframe thead th {\n",
       "        text-align: right;\n",
       "    }\n",
       "</style>\n",
       "<table border=\"1\" class=\"dataframe\">\n",
       "  <thead>\n",
       "    <tr style=\"text-align: right;\">\n",
       "      <th></th>\n",
       "      <th>OwnerZip</th>\n",
       "      <th>Count</th>\n",
       "    </tr>\n",
       "  </thead>\n",
       "  <tbody>\n",
       "    <tr>\n",
       "      <th>0</th>\n",
       "      <td>15003</td>\n",
       "      <td>28</td>\n",
       "    </tr>\n",
       "    <tr>\n",
       "      <th>1</th>\n",
       "      <td>15005</td>\n",
       "      <td>43</td>\n",
       "    </tr>\n",
       "    <tr>\n",
       "      <th>2</th>\n",
       "      <td>15006</td>\n",
       "      <td>6</td>\n",
       "    </tr>\n",
       "    <tr>\n",
       "      <th>3</th>\n",
       "      <td>15007</td>\n",
       "      <td>9</td>\n",
       "    </tr>\n",
       "    <tr>\n",
       "      <th>4</th>\n",
       "      <td>15012</td>\n",
       "      <td>2</td>\n",
       "    </tr>\n",
       "  </tbody>\n",
       "</table>\n",
       "</div>"
      ],
      "text/plain": [
       "  OwnerZip  Count\n",
       "0    15003     28\n",
       "1    15005     43\n",
       "2    15006      6\n",
       "3    15007      9\n",
       "4    15012      2"
      ]
     },
     "execution_count": 13,
     "metadata": {},
     "output_type": "execute_result"
    }
   ],
   "source": [
    "dogs_by_zip = dogs_by_zip.rename(columns = {\"DogName\" : \"Count\"})\n",
    "dogs_by_zip.head()"
   ]
  },
  {
   "cell_type": "code",
   "execution_count": 14,
   "metadata": {},
   "outputs": [
    {
     "data": {
      "text/html": [
       "<div>\n",
       "<style scoped>\n",
       "    .dataframe tbody tr th:only-of-type {\n",
       "        vertical-align: middle;\n",
       "    }\n",
       "\n",
       "    .dataframe tbody tr th {\n",
       "        vertical-align: top;\n",
       "    }\n",
       "\n",
       "    .dataframe thead th {\n",
       "        text-align: right;\n",
       "    }\n",
       "</style>\n",
       "<table border=\"1\" class=\"dataframe\">\n",
       "  <thead>\n",
       "    <tr style=\"text-align: right;\">\n",
       "      <th></th>\n",
       "      <th>OwnerZip</th>\n",
       "      <th>Count</th>\n",
       "    </tr>\n",
       "  </thead>\n",
       "  <tbody>\n",
       "    <tr>\n",
       "      <th>96</th>\n",
       "      <td>15219</td>\n",
       "      <td>12</td>\n",
       "    </tr>\n",
       "  </tbody>\n",
       "</table>\n",
       "</div>"
      ],
      "text/plain": [
       "   OwnerZip  Count\n",
       "96    15219     12"
      ]
     },
     "execution_count": 14,
     "metadata": {},
     "output_type": "execute_result"
    }
   ],
   "source": [
    "# OK, how many are there in Downtown (15219)?\n",
    "dogs_by_zip[dogs_by_zip.OwnerZip == \"15219\"]"
   ]
  },
  {
   "cell_type": "markdown",
   "metadata": {},
   "source": [
    "### grouping by multiple columns\n",
    "\n",
    "You need to pass in your list of columns as, well, a list. \n",
    "\n",
    "In the example below, we count how many dogs there are by zip code and by breed. So, then, if we want to know how many poodles are in a particular zip code, we can do that."
   ]
  },
  {
   "cell_type": "code",
   "execution_count": 15,
   "metadata": {},
   "outputs": [
    {
     "data": {
      "text/html": [
       "<div>\n",
       "<style scoped>\n",
       "    .dataframe tbody tr th:only-of-type {\n",
       "        vertical-align: middle;\n",
       "    }\n",
       "\n",
       "    .dataframe tbody tr th {\n",
       "        vertical-align: top;\n",
       "    }\n",
       "\n",
       "    .dataframe thead th {\n",
       "        text-align: right;\n",
       "    }\n",
       "</style>\n",
       "<table border=\"1\" class=\"dataframe\">\n",
       "  <thead>\n",
       "    <tr style=\"text-align: right;\">\n",
       "      <th></th>\n",
       "      <th>OwnerZip</th>\n",
       "      <th>Breed</th>\n",
       "      <th>Count</th>\n",
       "    </tr>\n",
       "  </thead>\n",
       "  <tbody>\n",
       "    <tr>\n",
       "      <th>0</th>\n",
       "      <td>15003</td>\n",
       "      <td>AM PIT BULL TERRIER</td>\n",
       "      <td>1</td>\n",
       "    </tr>\n",
       "    <tr>\n",
       "      <th>1</th>\n",
       "      <td>15003</td>\n",
       "      <td>AM PITT BULL MIX</td>\n",
       "      <td>1</td>\n",
       "    </tr>\n",
       "    <tr>\n",
       "      <th>2</th>\n",
       "      <td>15003</td>\n",
       "      <td>AUS SHEPHERD</td>\n",
       "      <td>1</td>\n",
       "    </tr>\n",
       "    <tr>\n",
       "      <th>3</th>\n",
       "      <td>15003</td>\n",
       "      <td>BICHON FRISE</td>\n",
       "      <td>1</td>\n",
       "    </tr>\n",
       "    <tr>\n",
       "      <th>4</th>\n",
       "      <td>15003</td>\n",
       "      <td>ENG SPRINGER SPANIE</td>\n",
       "      <td>3</td>\n",
       "    </tr>\n",
       "  </tbody>\n",
       "</table>\n",
       "</div>"
      ],
      "text/plain": [
       "  OwnerZip                Breed  Count\n",
       "0    15003  AM PIT BULL TERRIER      1\n",
       "1    15003     AM PITT BULL MIX      1\n",
       "2    15003         AUS SHEPHERD      1\n",
       "3    15003         BICHON FRISE      1\n",
       "4    15003  ENG SPRINGER SPANIE      3"
      ]
     },
     "execution_count": 15,
     "metadata": {},
     "output_type": "execute_result"
    }
   ],
   "source": [
    "zab_df = licenses.groupby([\"OwnerZip\", \"Breed\"], as_index=False)[\"DogName\"].count()\n",
    "zab_df = zab_df.rename(columns = {\"DogName\" : \"Count\"})\n",
    "zab_df.head()"
   ]
  },
  {
   "cell_type": "markdown",
   "metadata": {},
   "source": [
    "#### A good trick: `.str.contains()`\n",
    "\n",
    "We can look for substrings within our columns if we want to. Say you want to look for all pitt bulls (and pitbulls), including mixes with other breeds. Not a problem. "
   ]
  },
  {
   "cell_type": "code",
   "execution_count": 16,
   "metadata": {},
   "outputs": [
    {
     "name": "stdout",
     "output_type": "stream",
     "text": [
      "Total pitties by North Campus: 42 \n",
      "\n",
      "     OwnerZip                Breed  Count\n",
      "5947    15237  AM PIT BULL TERRIER     21\n",
      "5948    15237     AM PITT BULL MIX     21\n"
     ]
    }
   ],
   "source": [
    "# how many pitbulls live near CCAC North?\n",
    "pitties = zab_df[zab_df['Breed'].str.contains('PIT')]\n",
    "pitties_by_north_campus = pitties[pitties.OwnerZip == \"15237\"]\n",
    "\n",
    "print(\"Total pitties by North Campus:\", sum(pitties_by_north_campus.Count), \"\\n\")\n",
    "print(pitties_by_north_campus) # there's a reason I don't always explicitly print dfs"
   ]
  },
  {
   "cell_type": "code",
   "execution_count": 17,
   "metadata": {},
   "outputs": [
    {
     "data": {
      "text/html": [
       "<div>\n",
       "<style scoped>\n",
       "    .dataframe tbody tr th:only-of-type {\n",
       "        vertical-align: middle;\n",
       "    }\n",
       "\n",
       "    .dataframe tbody tr th {\n",
       "        vertical-align: top;\n",
       "    }\n",
       "\n",
       "    .dataframe thead th {\n",
       "        text-align: right;\n",
       "    }\n",
       "</style>\n",
       "<table border=\"1\" class=\"dataframe\">\n",
       "  <thead>\n",
       "    <tr style=\"text-align: right;\">\n",
       "      <th></th>\n",
       "      <th>OwnerZip</th>\n",
       "      <th>Breed</th>\n",
       "      <th>Count</th>\n",
       "    </tr>\n",
       "  </thead>\n",
       "  <tbody>\n",
       "    <tr>\n",
       "      <th>6015</th>\n",
       "      <td>15237</td>\n",
       "      <td>GOLDENDOODLE</td>\n",
       "      <td>55</td>\n",
       "    </tr>\n",
       "    <tr>\n",
       "      <th>6029</th>\n",
       "      <td>15237</td>\n",
       "      <td>LABRADOODLE</td>\n",
       "      <td>22</td>\n",
       "    </tr>\n",
       "    <tr>\n",
       "      <th>6053</th>\n",
       "      <td>15237</td>\n",
       "      <td>POODLE MED</td>\n",
       "      <td>1</td>\n",
       "    </tr>\n",
       "    <tr>\n",
       "      <th>6054</th>\n",
       "      <td>15237</td>\n",
       "      <td>POODLE MIN</td>\n",
       "      <td>2</td>\n",
       "    </tr>\n",
       "    <tr>\n",
       "      <th>6055</th>\n",
       "      <td>15237</td>\n",
       "      <td>POODLE MIX</td>\n",
       "      <td>17</td>\n",
       "    </tr>\n",
       "    <tr>\n",
       "      <th>6056</th>\n",
       "      <td>15237</td>\n",
       "      <td>POODLE STANDARD</td>\n",
       "      <td>20</td>\n",
       "    </tr>\n",
       "    <tr>\n",
       "      <th>6057</th>\n",
       "      <td>15237</td>\n",
       "      <td>POODLE TOY</td>\n",
       "      <td>3</td>\n",
       "    </tr>\n",
       "    <tr>\n",
       "      <th>6071</th>\n",
       "      <td>15237</td>\n",
       "      <td>SCHNOODLE</td>\n",
       "      <td>6</td>\n",
       "    </tr>\n",
       "  </tbody>\n",
       "</table>\n",
       "</div>"
      ],
      "text/plain": [
       "     OwnerZip            Breed  Count\n",
       "6015    15237     GOLDENDOODLE     55\n",
       "6029    15237      LABRADOODLE     22\n",
       "6053    15237       POODLE MED      1\n",
       "6054    15237       POODLE MIN      2\n",
       "6055    15237       POODLE MIX     17\n",
       "6056    15237  POODLE STANDARD     20\n",
       "6057    15237       POODLE TOY      3\n",
       "6071    15237        SCHNOODLE      6"
      ]
     },
     "execution_count": 17,
     "metadata": {},
     "output_type": "execute_result"
    }
   ],
   "source": [
    "# I did say \"poodles,\" though\n",
    "oodles = zab_df[zab_df[\"Breed\"].str.contains(\"OODLE\")]\n",
    "CCAC_North_area_poodle_mixes = oodles[oodles.OwnerZip == \"15237\"]\n",
    "CCAC_North_area_poodle_mixes"
   ]
  },
  {
   "cell_type": "code",
   "execution_count": 18,
   "metadata": {},
   "outputs": [
    {
     "data": {
      "text/plain": [
       "126"
      ]
     },
     "execution_count": 18,
     "metadata": {},
     "output_type": "execute_result"
    }
   ],
   "source": [
    "sum(CCAC_North_area_poodle_mixes.Count)"
   ]
  },
  {
   "cell_type": "markdown",
   "metadata": {},
   "source": [
    "## Reorganizing columns\n",
    "\n",
    "Surprisingly easy, actually. Say you have a dataframe with three columns, \"b\", \"c\", and \"a\", and they're in that order, which is not the order you want.\n",
    "```Python\n",
    "df = df[[\"a\", \"b\", \"c\"]]\n",
    "```\n"
   ]
  },
  {
   "cell_type": "code",
   "execution_count": 19,
   "metadata": {},
   "outputs": [
    {
     "data": {
      "text/html": [
       "<div>\n",
       "<style scoped>\n",
       "    .dataframe tbody tr th:only-of-type {\n",
       "        vertical-align: middle;\n",
       "    }\n",
       "\n",
       "    .dataframe tbody tr th {\n",
       "        vertical-align: top;\n",
       "    }\n",
       "\n",
       "    .dataframe thead th {\n",
       "        text-align: right;\n",
       "    }\n",
       "</style>\n",
       "<table border=\"1\" class=\"dataframe\">\n",
       "  <thead>\n",
       "    <tr style=\"text-align: right;\">\n",
       "      <th></th>\n",
       "      <th>LicenseType</th>\n",
       "      <th>Breed</th>\n",
       "      <th>Color</th>\n",
       "      <th>DogName</th>\n",
       "      <th>OwnerZip</th>\n",
       "      <th>ExpYear</th>\n",
       "      <th>ValidDate</th>\n",
       "    </tr>\n",
       "  </thead>\n",
       "  <tbody>\n",
       "    <tr>\n",
       "      <th>0</th>\n",
       "      <td>Dog Lifetime Neutered Male</td>\n",
       "      <td>POODLE MIN</td>\n",
       "      <td>WHITE/BLACK/GREY</td>\n",
       "      <td>BAILEY</td>\n",
       "      <td>15137</td>\n",
       "      <td>2099</td>\n",
       "      <td>2005-08-08</td>\n",
       "    </tr>\n",
       "    <tr>\n",
       "      <th>1</th>\n",
       "      <td>Dog Lifetime Neutered Male</td>\n",
       "      <td>AM PIT BULL TERRIER</td>\n",
       "      <td>BRINDLE</td>\n",
       "      <td>SPENCER</td>\n",
       "      <td>15045</td>\n",
       "      <td>2099</td>\n",
       "      <td>2006-03-07</td>\n",
       "    </tr>\n",
       "    <tr>\n",
       "      <th>2</th>\n",
       "      <td>Dog Lifetime Spayed Female</td>\n",
       "      <td>DALMATIAN</td>\n",
       "      <td>SPOTTED</td>\n",
       "      <td>CLEO</td>\n",
       "      <td>15110</td>\n",
       "      <td>2099</td>\n",
       "      <td>2005-08-08</td>\n",
       "    </tr>\n",
       "    <tr>\n",
       "      <th>3</th>\n",
       "      <td>Dog Senior Lifetime Neutered Male</td>\n",
       "      <td>COCKER SPANIEL</td>\n",
       "      <td>BUFF</td>\n",
       "      <td>HARLEY</td>\n",
       "      <td>15236</td>\n",
       "      <td>2099</td>\n",
       "      <td>2005-08-08</td>\n",
       "    </tr>\n",
       "    <tr>\n",
       "      <th>4</th>\n",
       "      <td>Dog Lifetime Spayed Female</td>\n",
       "      <td>CHIHUAHUA</td>\n",
       "      <td>WHITE/BROWN</td>\n",
       "      <td>ANGEL</td>\n",
       "      <td>15216</td>\n",
       "      <td>2099</td>\n",
       "      <td>2005-08-08</td>\n",
       "    </tr>\n",
       "  </tbody>\n",
       "</table>\n",
       "</div>"
      ],
      "text/plain": [
       "                         LicenseType                Breed             Color  \\\n",
       "0         Dog Lifetime Neutered Male           POODLE MIN  WHITE/BLACK/GREY   \n",
       "1         Dog Lifetime Neutered Male  AM PIT BULL TERRIER           BRINDLE   \n",
       "2         Dog Lifetime Spayed Female            DALMATIAN           SPOTTED   \n",
       "3  Dog Senior Lifetime Neutered Male       COCKER SPANIEL              BUFF   \n",
       "4         Dog Lifetime Spayed Female            CHIHUAHUA       WHITE/BROWN   \n",
       "\n",
       "   DogName OwnerZip  ExpYear  ValidDate  \n",
       "0   BAILEY    15137     2099 2005-08-08  \n",
       "1  SPENCER    15045     2099 2006-03-07  \n",
       "2     CLEO    15110     2099 2005-08-08  \n",
       "3   HARLEY    15236     2099 2005-08-08  \n",
       "4    ANGEL    15216     2099 2005-08-08  "
      ]
     },
     "execution_count": 19,
     "metadata": {},
     "output_type": "execute_result"
    }
   ],
   "source": [
    "licenses.head()"
   ]
  },
  {
   "cell_type": "code",
   "execution_count": 20,
   "metadata": {},
   "outputs": [
    {
     "data": {
      "text/html": [
       "<div>\n",
       "<style scoped>\n",
       "    .dataframe tbody tr th:only-of-type {\n",
       "        vertical-align: middle;\n",
       "    }\n",
       "\n",
       "    .dataframe tbody tr th {\n",
       "        vertical-align: top;\n",
       "    }\n",
       "\n",
       "    .dataframe thead th {\n",
       "        text-align: right;\n",
       "    }\n",
       "</style>\n",
       "<table border=\"1\" class=\"dataframe\">\n",
       "  <thead>\n",
       "    <tr style=\"text-align: right;\">\n",
       "      <th></th>\n",
       "      <th>OwnerZip</th>\n",
       "      <th>DogName</th>\n",
       "      <th>Breed</th>\n",
       "      <th>Color</th>\n",
       "      <th>LicenseType</th>\n",
       "      <th>ExpYear</th>\n",
       "      <th>ValidDate</th>\n",
       "    </tr>\n",
       "  </thead>\n",
       "  <tbody>\n",
       "    <tr>\n",
       "      <th>0</th>\n",
       "      <td>15137</td>\n",
       "      <td>BAILEY</td>\n",
       "      <td>POODLE MIN</td>\n",
       "      <td>WHITE/BLACK/GREY</td>\n",
       "      <td>Dog Lifetime Neutered Male</td>\n",
       "      <td>2099</td>\n",
       "      <td>2005-08-08</td>\n",
       "    </tr>\n",
       "    <tr>\n",
       "      <th>1</th>\n",
       "      <td>15045</td>\n",
       "      <td>SPENCER</td>\n",
       "      <td>AM PIT BULL TERRIER</td>\n",
       "      <td>BRINDLE</td>\n",
       "      <td>Dog Lifetime Neutered Male</td>\n",
       "      <td>2099</td>\n",
       "      <td>2006-03-07</td>\n",
       "    </tr>\n",
       "    <tr>\n",
       "      <th>2</th>\n",
       "      <td>15110</td>\n",
       "      <td>CLEO</td>\n",
       "      <td>DALMATIAN</td>\n",
       "      <td>SPOTTED</td>\n",
       "      <td>Dog Lifetime Spayed Female</td>\n",
       "      <td>2099</td>\n",
       "      <td>2005-08-08</td>\n",
       "    </tr>\n",
       "    <tr>\n",
       "      <th>3</th>\n",
       "      <td>15236</td>\n",
       "      <td>HARLEY</td>\n",
       "      <td>COCKER SPANIEL</td>\n",
       "      <td>BUFF</td>\n",
       "      <td>Dog Senior Lifetime Neutered Male</td>\n",
       "      <td>2099</td>\n",
       "      <td>2005-08-08</td>\n",
       "    </tr>\n",
       "    <tr>\n",
       "      <th>4</th>\n",
       "      <td>15216</td>\n",
       "      <td>ANGEL</td>\n",
       "      <td>CHIHUAHUA</td>\n",
       "      <td>WHITE/BROWN</td>\n",
       "      <td>Dog Lifetime Spayed Female</td>\n",
       "      <td>2099</td>\n",
       "      <td>2005-08-08</td>\n",
       "    </tr>\n",
       "  </tbody>\n",
       "</table>\n",
       "</div>"
      ],
      "text/plain": [
       "  OwnerZip  DogName                Breed             Color  \\\n",
       "0    15137   BAILEY           POODLE MIN  WHITE/BLACK/GREY   \n",
       "1    15045  SPENCER  AM PIT BULL TERRIER           BRINDLE   \n",
       "2    15110     CLEO            DALMATIAN           SPOTTED   \n",
       "3    15236   HARLEY       COCKER SPANIEL              BUFF   \n",
       "4    15216    ANGEL            CHIHUAHUA       WHITE/BROWN   \n",
       "\n",
       "                         LicenseType  ExpYear  ValidDate  \n",
       "0         Dog Lifetime Neutered Male     2099 2005-08-08  \n",
       "1         Dog Lifetime Neutered Male     2099 2006-03-07  \n",
       "2         Dog Lifetime Spayed Female     2099 2005-08-08  \n",
       "3  Dog Senior Lifetime Neutered Male     2099 2005-08-08  \n",
       "4         Dog Lifetime Spayed Female     2099 2005-08-08  "
      ]
     },
     "execution_count": 20,
     "metadata": {},
     "output_type": "execute_result"
    }
   ],
   "source": [
    "licenses2 = licenses[[\"OwnerZip\", \"DogName\", \"Breed\", \"Color\", \"LicenseType\", \"ExpYear\", \"ValidDate\"]]\n",
    "licenses2.head()"
   ]
  },
  {
   "cell_type": "markdown",
   "metadata": {},
   "source": [
    "### Removing a column\n",
    "\n",
    "There are two ways. You could do what we did above, and just leave a column out (for a dataframe with columns \"a\", \"b\", and \"c\":\n",
    "\n",
    "```Python\n",
    "df = df[[\"a\", \"b\"]]\n",
    "```\n",
    "\n",
    "But most dataframes have more than three columns, probably, so instead we use `.drop()`:\n",
    "\n",
    "```Python\n",
    "df = df.drop(\"c\", axis = 1) #axis tells it you're doing a column\n",
    "\n",
    "# OR\n",
    "\n",
    "df = df.drop(columns=[\"c\"])\n",
    "```"
   ]
  },
  {
   "cell_type": "code",
   "execution_count": 21,
   "metadata": {},
   "outputs": [
    {
     "data": {
      "text/html": [
       "<div>\n",
       "<style scoped>\n",
       "    .dataframe tbody tr th:only-of-type {\n",
       "        vertical-align: middle;\n",
       "    }\n",
       "\n",
       "    .dataframe tbody tr th {\n",
       "        vertical-align: top;\n",
       "    }\n",
       "\n",
       "    .dataframe thead th {\n",
       "        text-align: right;\n",
       "    }\n",
       "</style>\n",
       "<table border=\"1\" class=\"dataframe\">\n",
       "  <thead>\n",
       "    <tr style=\"text-align: right;\">\n",
       "      <th></th>\n",
       "      <th>OwnerZip</th>\n",
       "      <th>DogName</th>\n",
       "      <th>Breed</th>\n",
       "      <th>Color</th>\n",
       "      <th>LicenseType</th>\n",
       "    </tr>\n",
       "  </thead>\n",
       "  <tbody>\n",
       "    <tr>\n",
       "      <th>0</th>\n",
       "      <td>15137</td>\n",
       "      <td>BAILEY</td>\n",
       "      <td>POODLE MIN</td>\n",
       "      <td>WHITE/BLACK/GREY</td>\n",
       "      <td>Dog Lifetime Neutered Male</td>\n",
       "    </tr>\n",
       "    <tr>\n",
       "      <th>1</th>\n",
       "      <td>15045</td>\n",
       "      <td>SPENCER</td>\n",
       "      <td>AM PIT BULL TERRIER</td>\n",
       "      <td>BRINDLE</td>\n",
       "      <td>Dog Lifetime Neutered Male</td>\n",
       "    </tr>\n",
       "    <tr>\n",
       "      <th>2</th>\n",
       "      <td>15110</td>\n",
       "      <td>CLEO</td>\n",
       "      <td>DALMATIAN</td>\n",
       "      <td>SPOTTED</td>\n",
       "      <td>Dog Lifetime Spayed Female</td>\n",
       "    </tr>\n",
       "    <tr>\n",
       "      <th>3</th>\n",
       "      <td>15236</td>\n",
       "      <td>HARLEY</td>\n",
       "      <td>COCKER SPANIEL</td>\n",
       "      <td>BUFF</td>\n",
       "      <td>Dog Senior Lifetime Neutered Male</td>\n",
       "    </tr>\n",
       "    <tr>\n",
       "      <th>4</th>\n",
       "      <td>15216</td>\n",
       "      <td>ANGEL</td>\n",
       "      <td>CHIHUAHUA</td>\n",
       "      <td>WHITE/BROWN</td>\n",
       "      <td>Dog Lifetime Spayed Female</td>\n",
       "    </tr>\n",
       "  </tbody>\n",
       "</table>\n",
       "</div>"
      ],
      "text/plain": [
       "  OwnerZip  DogName                Breed             Color  \\\n",
       "0    15137   BAILEY           POODLE MIN  WHITE/BLACK/GREY   \n",
       "1    15045  SPENCER  AM PIT BULL TERRIER           BRINDLE   \n",
       "2    15110     CLEO            DALMATIAN           SPOTTED   \n",
       "3    15236   HARLEY       COCKER SPANIEL              BUFF   \n",
       "4    15216    ANGEL            CHIHUAHUA       WHITE/BROWN   \n",
       "\n",
       "                         LicenseType  \n",
       "0         Dog Lifetime Neutered Male  \n",
       "1         Dog Lifetime Neutered Male  \n",
       "2         Dog Lifetime Spayed Female  \n",
       "3  Dog Senior Lifetime Neutered Male  \n",
       "4         Dog Lifetime Spayed Female  "
      ]
     },
     "execution_count": 21,
     "metadata": {},
     "output_type": "execute_result"
    }
   ],
   "source": [
    "licenses2 = licenses2.drop(columns=[\"ExpYear\"])\n",
    "licenses2 = licenses2.drop(\"ValidDate\", axis = 1)\n",
    "licenses2.head()"
   ]
  },
  {
   "cell_type": "markdown",
   "metadata": {},
   "source": [
    "### Adding columns\n",
    "\n",
    "You may need to create a single new column, often based on a calculation you've done to another column. \n",
    "\n",
    "Weirdly enough, you can just add a column by indexing it with the name you want it to have:\n",
    "    \n",
    "```Python\n",
    "df[\"new_column\"] = whatever_pandas_series_or_list_you_want\n",
    "```\n",
    "\n",
    "We do have a method for it, too, though:\n",
    "\n",
    "```Python\n",
    "# one of the few Pandas operations to happen in place by default\n",
    "df.insert(position, column_name, list_or_list_of_values, True/False)\n",
    "```"
   ]
  },
  {
   "cell_type": "code",
   "execution_count": 22,
   "metadata": {},
   "outputs": [
    {
     "data": {
      "text/html": [
       "<div>\n",
       "<style scoped>\n",
       "    .dataframe tbody tr th:only-of-type {\n",
       "        vertical-align: middle;\n",
       "    }\n",
       "\n",
       "    .dataframe tbody tr th {\n",
       "        vertical-align: top;\n",
       "    }\n",
       "\n",
       "    .dataframe thead th {\n",
       "        text-align: right;\n",
       "    }\n",
       "</style>\n",
       "<table border=\"1\" class=\"dataframe\">\n",
       "  <thead>\n",
       "    <tr style=\"text-align: right;\">\n",
       "      <th></th>\n",
       "      <th>LicenseType</th>\n",
       "      <th>Fixed</th>\n",
       "      <th>Breed</th>\n",
       "      <th>Color</th>\n",
       "      <th>DogName</th>\n",
       "      <th>OwnerZip</th>\n",
       "      <th>ExpYear</th>\n",
       "      <th>ValidDate</th>\n",
       "    </tr>\n",
       "  </thead>\n",
       "  <tbody>\n",
       "    <tr>\n",
       "      <th>0</th>\n",
       "      <td>Dog Lifetime Neutered Male</td>\n",
       "      <td>True</td>\n",
       "      <td>POODLE MIN</td>\n",
       "      <td>WHITE/BLACK/GREY</td>\n",
       "      <td>BAILEY</td>\n",
       "      <td>15137</td>\n",
       "      <td>2099</td>\n",
       "      <td>2005-08-08</td>\n",
       "    </tr>\n",
       "    <tr>\n",
       "      <th>1</th>\n",
       "      <td>Dog Lifetime Neutered Male</td>\n",
       "      <td>True</td>\n",
       "      <td>AM PIT BULL TERRIER</td>\n",
       "      <td>BRINDLE</td>\n",
       "      <td>SPENCER</td>\n",
       "      <td>15045</td>\n",
       "      <td>2099</td>\n",
       "      <td>2006-03-07</td>\n",
       "    </tr>\n",
       "    <tr>\n",
       "      <th>2</th>\n",
       "      <td>Dog Lifetime Spayed Female</td>\n",
       "      <td>True</td>\n",
       "      <td>DALMATIAN</td>\n",
       "      <td>SPOTTED</td>\n",
       "      <td>CLEO</td>\n",
       "      <td>15110</td>\n",
       "      <td>2099</td>\n",
       "      <td>2005-08-08</td>\n",
       "    </tr>\n",
       "    <tr>\n",
       "      <th>3</th>\n",
       "      <td>Dog Senior Lifetime Neutered Male</td>\n",
       "      <td>True</td>\n",
       "      <td>COCKER SPANIEL</td>\n",
       "      <td>BUFF</td>\n",
       "      <td>HARLEY</td>\n",
       "      <td>15236</td>\n",
       "      <td>2099</td>\n",
       "      <td>2005-08-08</td>\n",
       "    </tr>\n",
       "    <tr>\n",
       "      <th>4</th>\n",
       "      <td>Dog Lifetime Spayed Female</td>\n",
       "      <td>True</td>\n",
       "      <td>CHIHUAHUA</td>\n",
       "      <td>WHITE/BROWN</td>\n",
       "      <td>ANGEL</td>\n",
       "      <td>15216</td>\n",
       "      <td>2099</td>\n",
       "      <td>2005-08-08</td>\n",
       "    </tr>\n",
       "  </tbody>\n",
       "</table>\n",
       "</div>"
      ],
      "text/plain": [
       "                         LicenseType  Fixed                Breed  \\\n",
       "0         Dog Lifetime Neutered Male   True           POODLE MIN   \n",
       "1         Dog Lifetime Neutered Male   True  AM PIT BULL TERRIER   \n",
       "2         Dog Lifetime Spayed Female   True            DALMATIAN   \n",
       "3  Dog Senior Lifetime Neutered Male   True       COCKER SPANIEL   \n",
       "4         Dog Lifetime Spayed Female   True            CHIHUAHUA   \n",
       "\n",
       "              Color  DogName OwnerZip  ExpYear  ValidDate  \n",
       "0  WHITE/BLACK/GREY   BAILEY    15137     2099 2005-08-08  \n",
       "1           BRINDLE  SPENCER    15045     2099 2006-03-07  \n",
       "2           SPOTTED     CLEO    15110     2099 2005-08-08  \n",
       "3              BUFF   HARLEY    15236     2099 2005-08-08  \n",
       "4       WHITE/BROWN    ANGEL    15216     2099 2005-08-08  "
      ]
     },
     "execution_count": 22,
     "metadata": {},
     "output_type": "execute_result"
    }
   ],
   "source": [
    "# Make true/false for whether a dog has been spayed or neutered\n",
    "neutered = licenses.LicenseType.str.contains(\"Neutered\")\n",
    "spayed = licenses.LicenseType.str.contains(\"Spayed\")\n",
    "# weirdly, we have to use bitwise operators to do element-by-element\n",
    "# comparisons of pandas series\n",
    "fixed = neutered | spayed\n",
    "\n",
    "# add the column\n",
    "licenses.insert(1, \"Fixed\", fixed, True)\n",
    "licenses.head()"
   ]
  },
  {
   "cell_type": "markdown",
   "metadata": {},
   "source": [
    "It's also worth pointing out that you can \"broadcast\" a scalar value down a column, too."
   ]
  },
  {
   "cell_type": "code",
   "execution_count": null,
   "metadata": {},
   "outputs": [],
   "source": [
    "licenses[\"IsGood\"] = \"Yes\"\n",
    "licenses.head()"
   ]
  },
  {
   "cell_type": "code",
   "execution_count": null,
   "metadata": {},
   "outputs": [],
   "source": []
  },
  {
   "cell_type": "code",
   "execution_count": null,
   "metadata": {},
   "outputs": [],
   "source": []
  },
  {
   "cell_type": "markdown",
   "metadata": {},
   "source": [
    "### Etc."
   ]
  },
  {
   "cell_type": "code",
   "execution_count": 24,
   "metadata": {},
   "outputs": [
    {
     "data": {
      "text/html": [
       "<div>\n",
       "<style scoped>\n",
       "    .dataframe tbody tr th:only-of-type {\n",
       "        vertical-align: middle;\n",
       "    }\n",
       "\n",
       "    .dataframe tbody tr th {\n",
       "        vertical-align: top;\n",
       "    }\n",
       "\n",
       "    .dataframe thead th {\n",
       "        text-align: right;\n",
       "    }\n",
       "</style>\n",
       "<table border=\"1\" class=\"dataframe\">\n",
       "  <thead>\n",
       "    <tr style=\"text-align: right;\">\n",
       "      <th></th>\n",
       "      <th>Count</th>\n",
       "    </tr>\n",
       "  </thead>\n",
       "  <tbody>\n",
       "    <tr>\n",
       "      <th>count</th>\n",
       "      <td>136.000000</td>\n",
       "    </tr>\n",
       "    <tr>\n",
       "      <th>mean</th>\n",
       "      <td>243.794118</td>\n",
       "    </tr>\n",
       "    <tr>\n",
       "      <th>std</th>\n",
       "      <td>359.950205</td>\n",
       "    </tr>\n",
       "    <tr>\n",
       "      <th>min</th>\n",
       "      <td>1.000000</td>\n",
       "    </tr>\n",
       "    <tr>\n",
       "      <th>25%</th>\n",
       "      <td>5.000000</td>\n",
       "    </tr>\n",
       "    <tr>\n",
       "      <th>50%</th>\n",
       "      <td>53.500000</td>\n",
       "    </tr>\n",
       "    <tr>\n",
       "      <th>75%</th>\n",
       "      <td>386.000000</td>\n",
       "    </tr>\n",
       "    <tr>\n",
       "      <th>max</th>\n",
       "      <td>1937.000000</td>\n",
       "    </tr>\n",
       "  </tbody>\n",
       "</table>\n",
       "</div>"
      ],
      "text/plain": [
       "             Count\n",
       "count   136.000000\n",
       "mean    243.794118\n",
       "std     359.950205\n",
       "min       1.000000\n",
       "25%       5.000000\n",
       "50%      53.500000\n",
       "75%     386.000000\n",
       "max    1937.000000"
      ]
     },
     "execution_count": 24,
     "metadata": {},
     "output_type": "execute_result"
    }
   ],
   "source": [
    "dogs_by_zip = licenses.groupby(\"OwnerZip\", as_index=False)[\"DogName\"].count()\n",
    "dogs_by_zip = dogs_by_zip.rename(columns = {\"DogName\" : \"Count\"})\n",
    "dogs_by_zip.describe()\n",
    "# average zip code in Allegheny County has 244 dog licenses\n",
    "# median is 54\n",
    "# max is 1937"
   ]
  },
  {
   "cell_type": "code",
   "execution_count": 25,
   "metadata": {},
   "outputs": [
    {
     "data": {
      "text/html": [
       "<div>\n",
       "<style scoped>\n",
       "    .dataframe tbody tr th:only-of-type {\n",
       "        vertical-align: middle;\n",
       "    }\n",
       "\n",
       "    .dataframe tbody tr th {\n",
       "        vertical-align: top;\n",
       "    }\n",
       "\n",
       "    .dataframe thead th {\n",
       "        text-align: right;\n",
       "    }\n",
       "</style>\n",
       "<table border=\"1\" class=\"dataframe\">\n",
       "  <thead>\n",
       "    <tr style=\"text-align: right;\">\n",
       "      <th></th>\n",
       "      <th>OwnerZip</th>\n",
       "      <th>Count</th>\n",
       "    </tr>\n",
       "  </thead>\n",
       "  <tbody>\n",
       "    <tr>\n",
       "      <th>8</th>\n",
       "      <td>15017</td>\n",
       "      <td>381</td>\n",
       "    </tr>\n",
       "    <tr>\n",
       "      <th>11</th>\n",
       "      <td>15024</td>\n",
       "      <td>347</td>\n",
       "    </tr>\n",
       "    <tr>\n",
       "      <th>12</th>\n",
       "      <td>15025</td>\n",
       "      <td>749</td>\n",
       "    </tr>\n",
       "    <tr>\n",
       "      <th>20</th>\n",
       "      <td>15037</td>\n",
       "      <td>797</td>\n",
       "    </tr>\n",
       "    <tr>\n",
       "      <th>21</th>\n",
       "      <td>15044</td>\n",
       "      <td>1105</td>\n",
       "    </tr>\n",
       "  </tbody>\n",
       "</table>\n",
       "</div>"
      ],
      "text/plain": [
       "   OwnerZip  Count\n",
       "8     15017    381\n",
       "11    15024    347\n",
       "12    15025    749\n",
       "20    15037    797\n",
       "21    15044   1105"
      ]
     },
     "execution_count": 25,
     "metadata": {},
     "output_type": "execute_result"
    }
   ],
   "source": [
    "most_dogs_by_zip = dogs_by_zip[dogs_by_zip.Count > 200]\n",
    "most_dogs_by_zip.head()"
   ]
  },
  {
   "cell_type": "code",
   "execution_count": 61,
   "metadata": {},
   "outputs": [
    {
     "data": {
      "text/html": [
       "<div>\n",
       "<style scoped>\n",
       "    .dataframe tbody tr th:only-of-type {\n",
       "        vertical-align: middle;\n",
       "    }\n",
       "\n",
       "    .dataframe tbody tr th {\n",
       "        vertical-align: top;\n",
       "    }\n",
       "\n",
       "    .dataframe thead th {\n",
       "        text-align: right;\n",
       "    }\n",
       "</style>\n",
       "<table border=\"1\" class=\"dataframe\">\n",
       "  <thead>\n",
       "    <tr style=\"text-align: right;\">\n",
       "      <th></th>\n",
       "      <th>LicenseType</th>\n",
       "      <th>Fixed</th>\n",
       "      <th>Breed</th>\n",
       "      <th>Color</th>\n",
       "      <th>DogName</th>\n",
       "      <th>OwnerZip</th>\n",
       "      <th>ExpYear</th>\n",
       "      <th>ValidDate</th>\n",
       "    </tr>\n",
       "  </thead>\n",
       "  <tbody>\n",
       "    <tr>\n",
       "      <th>2</th>\n",
       "      <td>Dog Lifetime Spayed Female</td>\n",
       "      <td>True</td>\n",
       "      <td>DALMATIAN</td>\n",
       "      <td>SPOTTED</td>\n",
       "      <td>CLEO</td>\n",
       "      <td>15110</td>\n",
       "      <td>2099</td>\n",
       "      <td>2005-08-08 00:00:00</td>\n",
       "    </tr>\n",
       "    <tr>\n",
       "      <th>225</th>\n",
       "      <td>Dog Senior Lifetime Spayed Female</td>\n",
       "      <td>True</td>\n",
       "      <td>DALMATIAN</td>\n",
       "      <td>SPOTTED</td>\n",
       "      <td>MONTANA</td>\n",
       "      <td>15238</td>\n",
       "      <td>2099</td>\n",
       "      <td>2010-08-12 14:30:49</td>\n",
       "    </tr>\n",
       "    <tr>\n",
       "      <th>299</th>\n",
       "      <td>Dog Lifetime Neutered Male</td>\n",
       "      <td>True</td>\n",
       "      <td>DALMATIAN</td>\n",
       "      <td>WHITE/LIVER</td>\n",
       "      <td>BOSCO</td>\n",
       "      <td>15120</td>\n",
       "      <td>2099</td>\n",
       "      <td>2010-09-03 11:45:54</td>\n",
       "    </tr>\n",
       "    <tr>\n",
       "      <th>623</th>\n",
       "      <td>Dog Lifetime Neutered Male</td>\n",
       "      <td>True</td>\n",
       "      <td>DALMATIAN</td>\n",
       "      <td>WHITE/BLACK</td>\n",
       "      <td>LOUIE</td>\n",
       "      <td>15102</td>\n",
       "      <td>2099</td>\n",
       "      <td>2013-09-16 13:38:06</td>\n",
       "    </tr>\n",
       "    <tr>\n",
       "      <th>626</th>\n",
       "      <td>Dog Lifetime Male</td>\n",
       "      <td>False</td>\n",
       "      <td>DALMATIAN</td>\n",
       "      <td>WHITE/BLACK</td>\n",
       "      <td>BLAZE</td>\n",
       "      <td>15147</td>\n",
       "      <td>2099</td>\n",
       "      <td>2013-09-16 14:40:33</td>\n",
       "    </tr>\n",
       "  </tbody>\n",
       "</table>\n",
       "</div>"
      ],
      "text/plain": [
       "                           LicenseType  Fixed      Breed        Color  \\\n",
       "2           Dog Lifetime Spayed Female   True  DALMATIAN      SPOTTED   \n",
       "225  Dog Senior Lifetime Spayed Female   True  DALMATIAN      SPOTTED   \n",
       "299         Dog Lifetime Neutered Male   True  DALMATIAN  WHITE/LIVER   \n",
       "623         Dog Lifetime Neutered Male   True  DALMATIAN  WHITE/BLACK   \n",
       "626                  Dog Lifetime Male  False  DALMATIAN  WHITE/BLACK   \n",
       "\n",
       "     DogName OwnerZip  ExpYear           ValidDate  \n",
       "2       CLEO    15110     2099 2005-08-08 00:00:00  \n",
       "225  MONTANA    15238     2099 2010-08-12 14:30:49  \n",
       "299    BOSCO    15120     2099 2010-09-03 11:45:54  \n",
       "623    LOUIE    15102     2099 2013-09-16 13:38:06  \n",
       "626    BLAZE    15147     2099 2013-09-16 14:40:33  "
      ]
     },
     "execution_count": 61,
     "metadata": {},
     "output_type": "execute_result"
    }
   ],
   "source": [
    "# What are the top names for dalmatians in Allegheny County?\n",
    "\n",
    "#create Dalmatian df \n",
    "dal_df = licenses[licenses['Breed'].str.contains('DALMATIAN')]\n",
    "dal_df.head()\n",
    "#type(dal_df)"
   ]
  },
  {
   "cell_type": "code",
   "execution_count": 75,
   "metadata": {},
   "outputs": [],
   "source": [
    "dal_names = dal_df[\"DogName\"].unique()\n",
    "#dal_names"
   ]
  },
  {
   "cell_type": "code",
   "execution_count": 67,
   "metadata": {},
   "outputs": [
    {
     "data": {
      "text/html": [
       "<div>\n",
       "<style scoped>\n",
       "    .dataframe tbody tr th:only-of-type {\n",
       "        vertical-align: middle;\n",
       "    }\n",
       "\n",
       "    .dataframe tbody tr th {\n",
       "        vertical-align: top;\n",
       "    }\n",
       "\n",
       "    .dataframe thead th {\n",
       "        text-align: right;\n",
       "    }\n",
       "</style>\n",
       "<table border=\"1\" class=\"dataframe\">\n",
       "  <thead>\n",
       "    <tr style=\"text-align: right;\">\n",
       "      <th></th>\n",
       "      <th>DogName</th>\n",
       "      <th>Breed</th>\n",
       "    </tr>\n",
       "  </thead>\n",
       "  <tbody>\n",
       "    <tr>\n",
       "      <th>0</th>\n",
       "      <td>ASHES</td>\n",
       "      <td>2</td>\n",
       "    </tr>\n",
       "    <tr>\n",
       "      <th>1</th>\n",
       "      <td>BELLA</td>\n",
       "      <td>1</td>\n",
       "    </tr>\n",
       "    <tr>\n",
       "      <th>2</th>\n",
       "      <td>BLAZE</td>\n",
       "      <td>2</td>\n",
       "    </tr>\n",
       "    <tr>\n",
       "      <th>3</th>\n",
       "      <td>BOSCO</td>\n",
       "      <td>1</td>\n",
       "    </tr>\n",
       "    <tr>\n",
       "      <th>4</th>\n",
       "      <td>BUDDY</td>\n",
       "      <td>1</td>\n",
       "    </tr>\n",
       "  </tbody>\n",
       "</table>\n",
       "</div>"
      ],
      "text/plain": [
       "  DogName  Breed\n",
       "0   ASHES      2\n",
       "1   BELLA      1\n",
       "2   BLAZE      2\n",
       "3   BOSCO      1\n",
       "4   BUDDY      1"
      ]
     },
     "execution_count": 67,
     "metadata": {},
     "output_type": "execute_result"
    }
   ],
   "source": [
    "# pull out and count dog names \n",
    "dal_name_df = dal_df.groupby([\"DogName\"], as_index=False)[\"Breed\"].count()\n",
    "dal_name_df.head()"
   ]
  },
  {
   "cell_type": "code",
   "execution_count": 74,
   "metadata": {},
   "outputs": [
    {
     "data": {
      "text/html": [
       "<div>\n",
       "<style scoped>\n",
       "    .dataframe tbody tr th:only-of-type {\n",
       "        vertical-align: middle;\n",
       "    }\n",
       "\n",
       "    .dataframe tbody tr th {\n",
       "        vertical-align: top;\n",
       "    }\n",
       "\n",
       "    .dataframe thead th {\n",
       "        text-align: right;\n",
       "    }\n",
       "</style>\n",
       "<table border=\"1\" class=\"dataframe\">\n",
       "  <thead>\n",
       "    <tr style=\"text-align: right;\">\n",
       "      <th></th>\n",
       "      <th>DogName</th>\n",
       "      <th>Count</th>\n",
       "    </tr>\n",
       "  </thead>\n",
       "  <tbody>\n",
       "    <tr>\n",
       "      <th>0</th>\n",
       "      <td>ASHES</td>\n",
       "      <td>2</td>\n",
       "    </tr>\n",
       "    <tr>\n",
       "      <th>1</th>\n",
       "      <td>BELLA</td>\n",
       "      <td>1</td>\n",
       "    </tr>\n",
       "    <tr>\n",
       "      <th>2</th>\n",
       "      <td>BLAZE</td>\n",
       "      <td>2</td>\n",
       "    </tr>\n",
       "    <tr>\n",
       "      <th>3</th>\n",
       "      <td>BOSCO</td>\n",
       "      <td>1</td>\n",
       "    </tr>\n",
       "    <tr>\n",
       "      <th>4</th>\n",
       "      <td>BUDDY</td>\n",
       "      <td>1</td>\n",
       "    </tr>\n",
       "  </tbody>\n",
       "</table>\n",
       "</div>"
      ],
      "text/plain": [
       "  DogName  Count\n",
       "0   ASHES      2\n",
       "1   BELLA      1\n",
       "2   BLAZE      2\n",
       "3   BOSCO      1\n",
       "4   BUDDY      1"
      ]
     },
     "execution_count": 74,
     "metadata": {},
     "output_type": "execute_result"
    }
   ],
   "source": [
    "# rename column \n",
    "dal_name_df = dal_name_df.rename(columns = {\"Breed\" : \"Count\"})\n",
    "dal_name_df.head()"
   ]
  },
  {
   "cell_type": "code",
   "execution_count": 77,
   "metadata": {},
   "outputs": [
    {
     "data": {
      "text/html": [
       "<div>\n",
       "<style scoped>\n",
       "    .dataframe tbody tr th:only-of-type {\n",
       "        vertical-align: middle;\n",
       "    }\n",
       "\n",
       "    .dataframe tbody tr th {\n",
       "        vertical-align: top;\n",
       "    }\n",
       "\n",
       "    .dataframe thead th {\n",
       "        text-align: right;\n",
       "    }\n",
       "</style>\n",
       "<table border=\"1\" class=\"dataframe\">\n",
       "  <thead>\n",
       "    <tr style=\"text-align: right;\">\n",
       "      <th></th>\n",
       "      <th>DogName</th>\n",
       "      <th>Count</th>\n",
       "    </tr>\n",
       "  </thead>\n",
       "  <tbody>\n",
       "    <tr>\n",
       "      <th>0</th>\n",
       "      <td>ASHES</td>\n",
       "      <td>2</td>\n",
       "    </tr>\n",
       "    <tr>\n",
       "      <th>2</th>\n",
       "      <td>BLAZE</td>\n",
       "      <td>2</td>\n",
       "    </tr>\n",
       "    <tr>\n",
       "      <th>10</th>\n",
       "      <td>CODY</td>\n",
       "      <td>3</td>\n",
       "    </tr>\n",
       "    <tr>\n",
       "      <th>38</th>\n",
       "      <td>LOUIE</td>\n",
       "      <td>5</td>\n",
       "    </tr>\n",
       "    <tr>\n",
       "      <th>44</th>\n",
       "      <td>MOLLY</td>\n",
       "      <td>2</td>\n",
       "    </tr>\n",
       "    <tr>\n",
       "      <th>53</th>\n",
       "      <td>PONGO</td>\n",
       "      <td>2</td>\n",
       "    </tr>\n",
       "    <tr>\n",
       "      <th>60</th>\n",
       "      <td>TANNER</td>\n",
       "      <td>2</td>\n",
       "    </tr>\n",
       "  </tbody>\n",
       "</table>\n",
       "</div>"
      ],
      "text/plain": [
       "   DogName  Count\n",
       "0    ASHES      2\n",
       "2    BLAZE      2\n",
       "10    CODY      3\n",
       "38   LOUIE      5\n",
       "44   MOLLY      2\n",
       "53   PONGO      2\n",
       "60  TANNER      2"
      ]
     },
     "execution_count": 77,
     "metadata": {},
     "output_type": "execute_result"
    }
   ],
   "source": [
    "# pull out names that occur more than once \n",
    "top_names = dal_name_df[dal_name_df.Count >1]\n",
    "top_names"
   ]
  },
  {
   "cell_type": "code",
   "execution_count": 83,
   "metadata": {},
   "outputs": [
    {
     "name": "stdout",
     "output_type": "stream",
     "text": [
      "33156\n"
     ]
    }
   ],
   "source": [
    "# What is the ratio of male to female dogs in Allegheny County?\n",
    "# find total number of dogs \n",
    "index = licenses.index\n",
    "total_dogs = len(index)\n",
    "print(total_dogs)"
   ]
  },
  {
   "cell_type": "code",
   "execution_count": 82,
   "metadata": {},
   "outputs": [],
   "source": [
    "# Make true/false for female dogs and create female only df \n",
    "females = licenses.LicenseType.str.contains(\"Female\")\n",
    "female_df = licenses[females]"
   ]
  },
  {
   "cell_type": "code",
   "execution_count": 84,
   "metadata": {},
   "outputs": [
    {
     "name": "stdout",
     "output_type": "stream",
     "text": [
      "16274\n"
     ]
    }
   ],
   "source": [
    "# find total number of female dogs\n",
    "\n",
    "female_index = female_df.index\n",
    "total_females = len(female_index)\n",
    "print(total_females)\n"
   ]
  },
  {
   "cell_type": "code",
   "execution_count": 92,
   "metadata": {},
   "outputs": [
    {
     "name": "stdout",
     "output_type": "stream",
     "text": [
      "16882\n"
     ]
    }
   ],
   "source": [
    "# find total number of male dogs\n",
    "\n",
    "total_males = total_dogs - total_females\n",
    "print(total_males)"
   ]
  },
  {
   "cell_type": "code",
   "execution_count": 93,
   "metadata": {},
   "outputs": [
    {
     "name": "stdout",
     "output_type": "stream",
     "text": [
      "The ration of male dogs to female dogs is: 16882 to 16274\n"
     ]
    }
   ],
   "source": [
    "# print ratio\n",
    "\n",
    "print(\"The ration of male dogs to female dogs is:\", total_males, \"to\", total_females)"
   ]
  },
  {
   "cell_type": "code",
   "execution_count": null,
   "metadata": {},
   "outputs": [],
   "source": []
  }
 ],
 "metadata": {
  "kernelspec": {
   "display_name": "Python 3",
   "language": "python",
   "name": "python3"
  },
  "language_info": {
   "codemirror_mode": {
    "name": "ipython",
    "version": 3
   },
   "file_extension": ".py",
   "mimetype": "text/x-python",
   "name": "python",
   "nbconvert_exporter": "python",
   "pygments_lexer": "ipython3",
   "version": "3.7.4"
  }
 },
 "nbformat": 4,
 "nbformat_minor": 4
}
