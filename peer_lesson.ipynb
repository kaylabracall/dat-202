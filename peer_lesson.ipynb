{
 "cells": [
  {
   "cell_type": "markdown",
   "metadata": {},
   "source": [
    "### DAT 202 - Peer Lesson\n",
    "Kayla Bracall\n",
    "September 29, 2020\n"
   ]
  },
  {
   "cell_type": "markdown",
   "metadata": {},
   "source": [
    "# Data Cleaning "
   ]
  },
  {
   "cell_type": "markdown",
   "metadata": {},
   "source": [
    "## What is data cleaning? \n",
    "\n",
    "Data cleaning is \"detecting and removing errors and inconsistencies from data in order to improve the quality of data.\" (Rahm and Do). Data cleaning can include transforming, translating, integrating and aggregating data. "
   ]
  },
  {
   "cell_type": "markdown",
   "metadata": {},
   "source": [
    "## What are some examples of \"unclean\" data?\n",
    "\n",
    "Data that includes: \n",
    "* spelling errors\n",
    "* missing information\n",
    "* irrelevant data \n",
    "* redundant data\n",
    "* multiple naming conventions for the same data type\n",
    "* data in multpile formats\n",
    "\n",
    "Some causes of unclean data can include human error and different record rention standards across multiple data sources. For example, one dataset may store phone numbers in the format 412-329-0000 while another may store as +1 (412) 329-0000."
   ]
  },
  {
   "cell_type": "markdown",
   "metadata": {},
   "source": [
    "## Why is data cleaning important?\n",
    "\n",
    "Incorrect/unclean data will produce incorrect conclusions. There is truth to the saying \"garbage in, garbage out.\" If data is being used for decision making, it is imperative that this data is as accurate as possible to avoid misleading statistics and inaccurate conclusions. \n",
    "\n",
    "Unclean data can exist even in a single dataset, but when combining datasets, data cleaning becomes even more important.\n",
    "\n",
    "Let's look at a rudimentary example: "
   ]
  },
  {
   "cell_type": "markdown",
   "metadata": {},
   "source": [
    "## What are some methods of data cleaning?"
   ]
  },
  {
   "cell_type": "markdown",
   "metadata": {},
   "source": [
    "## Data Cleaning Tools\n",
    "Some popular data cleaning tools inclulde:\n",
    "* Open Refine\n",
    "* Tableau\n"
   ]
  },
  {
   "cell_type": "markdown",
   "metadata": {},
   "source": [
    "## Unclean Data in the Real World - A Personal Example:\n",
    "\n",
    "For my final project in ATE 252, I analyzed crash fatality data for drivers aged 65 and older. The crash data was provided by PennDot and included data from years years 1997 - 2018. Here are some of the obstacles I ran into with the data:\n",
    "\n",
    "1. Irrelevant data in the dataset\n",
    "2. Categorical data that I needed to use for statistical analysis \n",
    "2. Null values in some of the datapoints I was analyzing\n",
    "3. _An entire year of missing data_\n",
    "\n",
    "Let's take a look at my solutions: https://github.com/kaylabracall/ate-252/tree/master/FinalProject\n",
    "\n",
    "### Do you agree with my solutions to unclean data? \n",
    "\n",
    "### Do you have any other suggestions with how I could have handled the missing year of data?"
   ]
  },
  {
   "cell_type": "markdown",
   "metadata": {},
   "source": [
    "## Homework!\n",
    "\n",
    "Read about one of the most famous examples of the conseuqences of not cleaning/preparing data: https://www.sciencemag.org/news/1999/09/english-metric-miscue-doomed-mars-mission"
   ]
  },
  {
   "cell_type": "markdown",
   "metadata": {},
   "source": [
    "Citations\n",
    "* Friedland, D. (n.d.). A Fresh Look at Data Preparation [Web log post]. Retrieved September 24, 2020, from https://www.iri.com/blog/business-intelligence/a-fresh-look-at-data-preparation/"
   ]
  },
  {
   "cell_type": "code",
   "execution_count": null,
   "metadata": {},
   "outputs": [],
   "source": []
  }
 ],
 "metadata": {
  "kernelspec": {
   "display_name": "Python 3",
   "language": "python",
   "name": "python3"
  },
  "language_info": {
   "codemirror_mode": {
    "name": "ipython",
    "version": 3
   },
   "file_extension": ".py",
   "mimetype": "text/x-python",
   "name": "python",
   "nbconvert_exporter": "python",
   "pygments_lexer": "ipython3",
   "version": "3.7.4"
  }
 },
 "nbformat": 4,
 "nbformat_minor": 2
}
