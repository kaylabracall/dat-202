{
 "cells": [
  {
   "cell_type": "code",
   "execution_count": null,
   "metadata": {},
   "outputs": [],
   "source": [
    "#Home work is to create a moving average."
   ]
  },
  {
   "cell_type": "code",
   "execution_count": 1,
   "metadata": {},
   "outputs": [
    {
     "name": "stdout",
     "output_type": "stream",
     "text": [
      "[47.         46.66666667 56.33333333 69.33333333 86.66666667 87.33333333\n",
      " 89.         90.        ]\n"
     ]
    }
   ],
   "source": [
    "# -*- coding: utf-8 -*-\n",
    "\"\"\"\n",
    "Created on Tue Oct 13 17:47:04 2020\n",
    "\n",
    "@author: wright\n",
    "\"\"\"\n",
    "\n",
    "import pandas as pd\n",
    "\n",
    "#define array to use and number of previous periods to use in calculation \n",
    "x = [50, 55, 36, 49, 84, 75, 101, 86, 80, 104]\n",
    "n=3\n",
    "\n",
    "#calculate moving average\n",
    "MA = pd.Series(x).rolling(window=n).mean().iloc[n-1:].values\n",
    "\n",
    "print(MA)"
   ]
  },
  {
   "cell_type": "code",
   "execution_count": null,
   "metadata": {},
   "outputs": [],
   "source": [
    "Homework research and plot a time-series in pandas and numpy\n",
    "\n",
    "Use a date field,and some numeric count "
   ]
  },
  {
   "cell_type": "code",
   "execution_count": null,
   "metadata": {},
   "outputs": [],
   "source": [
    "# Plot a time-series in pandas\n",
    "import packages \n",
    "import numpy as np \n",
    "import pandas as pd \n",
    "import matplotlib.pyplot as plt \n",
    "%matplotlib inline \n",
    "\n",
    "df = pd.read_csv('your data',skiprows=1) \n",
    "\n",
    "df.month = pd.to_datetime(df.month) \n",
    "\n",
    " # change to index \n",
    "df.set_index('month',inplace=True) \n",
    "df.plot(figsize=(20,10), linewidth=5, fontsize=20) \n",
    "plt.xlabel('Year', fontsize=20); "
   ]
  }
 ],
 "metadata": {
  "kernelspec": {
   "display_name": "Python 3",
   "language": "python",
   "name": "python3"
  },
  "language_info": {
   "codemirror_mode": {
    "name": "ipython",
    "version": 3
   },
   "file_extension": ".py",
   "mimetype": "text/x-python",
   "name": "python",
   "nbconvert_exporter": "python",
   "pygments_lexer": "ipython3",
   "version": "3.7.4"
  }
 },
 "nbformat": 4,
 "nbformat_minor": 2
}
