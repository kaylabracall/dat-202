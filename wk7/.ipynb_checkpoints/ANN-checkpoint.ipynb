{
 "cells": [
  {
   "cell_type": "markdown",
   "metadata": {
    "id": "Q7cbwb95i8Et"
   },
   "source": [
    "Keras is a higher-level abstraction for the popular neural network library, Tensorflow.\n",
    "\n",
    "https://becominghuman.ai/step-by-step-neural-network-tutorial-for-beginner-cc71a04eedeb\n",
    "\n",
    "Here we will use a dataset called fashion MNIST. Fashion MNIST is a dataset of ten categories of clothing and accessories, in grayscales.\n",
    "\n",
    "The purpose of the tutorial is to accurately assign each item into one of the ten categories."
   ]
  },
  {
   "cell_type": "code",
   "execution_count": 8,
   "metadata": {
    "id": "SdNM_VTavR7J"
   },
   "outputs": [],
   "source": [
    "#setup\n",
    "from tensorflow.keras.datasets import fashion_mnist\n",
    "from tensorflow.keras.models import Sequential\n",
    "from tensorflow.keras.layers import Dense\n",
    "from tensorflow.keras.utils import to_categorical"
   ]
  },
  {
   "cell_type": "markdown",
   "metadata": {
    "id": "13xL7u74vdn5"
   },
   "source": [
    "For our fashion MNIST, let’s just load the data:"
   ]
  },
  {
   "cell_type": "code",
   "execution_count": 9,
   "metadata": {
    "id": "a6tNU-irvZdZ"
   },
   "outputs": [],
   "source": [
    "(x_train, y_train), (x_test, y_test) = fashion_mnist.load_data()"
   ]
  },
  {
   "cell_type": "markdown",
   "metadata": {
    "id": "FyezCj_vkPmT"
   },
   "source": [
    "**Important points:**\n",
    "\n",
    "For every neural network project you will do in the future, these rules always apply.\n",
    "\n",
    "**Start simple:** Use a **single layer** perceptron and evaluate the result. If it is good, then proceed to deployment.\n",
    "\n",
    "If the previous step is not good enough, try to get your network **wider** and/or **deeper**. Add several neurons in your single-layer perceptron. Or, add one layer into the existing network. Evaluate and, if it is good, proceed to deployment. If not, then iterate by adding more neurons or layers.\n",
    "\n",
    "When, after adding several more layers into your network, but the results are still not good, then maybe you need to **change your network architecture**. Use Convolutional Neural Network (CNN) for images or Recurring Neural Network for time-series and texts.\n",
    "Follow those three steps, and you will get your results better.\n",
    "\n",
    "The data provided by Keras is already split between the training and testing sets, **with 60K for training and 10k for testing**. For the **validation**, let’s **take 10% of the training data**.\n",
    "So, it will be 54K images for training, 6K images for validation, and 10K images for testing."
   ]
  },
  {
   "cell_type": "markdown",
   "metadata": {
    "id": "lXPYmrGZlZJT"
   },
   "source": [
    "Our image is 28x28, and therefore is two-dimensional. Because of our perceptron only able to read one-dimensional data, let’s **flatten** them:"
   ]
  },
  {
   "cell_type": "code",
   "execution_count": 10,
   "metadata": {
    "colab": {
     "base_uri": "https://localhost:8080/",
     "height": 50
    },
    "id": "0OrHkIWqvryc",
    "outputId": "bcc2e44f-43cc-455a-b22a-2350b390a6e9"
   },
   "outputs": [
    {
     "name": "stdout",
     "output_type": "stream",
     "text": [
      "(60000, 784)\n",
      "(10000, 784)\n"
     ]
    }
   ],
   "source": [
    "x_train = x_train.reshape(x_train.shape[0], -1) / 255.0\n",
    "x_test = x_test.reshape(x_test.shape[0], -1) / 255.0\n",
    "y_train = to_categorical(y_train)\n",
    "y_test = to_categorical(y_test)\n",
    "print(x_train.shape)\n",
    "print(x_test.shape)\n"
   ]
  },
  {
   "cell_type": "markdown",
   "metadata": {
    "id": "--ct0IyRmtOP"
   },
   "source": [
    "Your training data x_train is transformed from 60,000 x 28 x 28 to **60,000 x 784**. Your testing data x_test follows suit, from 10,000 x 28 x 28 to **10,000 x 784**.\n",
    "\n",
    "For the hidden layer, let’s set an arbitrary number of neurons, Let’s choose 10 neurons.\n",
    "While for the output layer, because we have ten categories to categorize, we need to set it to 10 output neurons. For each image, each of these neurons will be filled with 1 if it is the correct category and 0 if not.\n",
    "\n",
    "In an example, if you have a Sandal image, then the output layer should have something like this [0 0 0 0 0 1 0 0 0 0]"
   ]
  },
  {
   "cell_type": "code",
   "execution_count": 11,
   "metadata": {
    "id": "p9XaWpaZv0ZJ"
   },
   "outputs": [],
   "source": [
    "model = Sequential()\n",
    "model.add(Dense(10, input_dim=784, activation='relu'))\n",
    "model.add(Dense(10, activation='softmax'))\n",
    "model.compile(loss='categorical_crossentropy', optimizer='adam', metrics=['accuracy'])"
   ]
  },
  {
   "cell_type": "markdown",
   "metadata": {
    "id": "urRL0FIyr93k"
   },
   "source": [
    "The **Sequential model** is the easiest model Keras has. The first line of model.**add method** is adding your **hidden layer** with 10 cells, coming from 784 input cells.\n",
    "The second add method is adding your **output layer** to the network,This has 10 cells .\n",
    "\n",
    "You need to follow these tips:\n",
    "\n",
    "**Use Relu whenever possible, on every hidden layer.**\n",
    "\n",
    "**Use Softmax on output layers with more than two categories to be predicted.**\n",
    "\n",
    "**Use Sigmoid on an output layer with two categories.**\n",
    "\n",
    "After creating your model, call **compile method** to finish your model. It usually takes three parameters. (Always use categorical_crossentropy for multi-categories, and binary_crossentropy for two categories. Use adam or rmsprop as the optimizer since both of them are pretty good.) And you need accuracy as the metric to check your network performance."
   ]
  },
  {
   "cell_type": "markdown",
   "metadata": {
    "id": "3ANLPw80swQd"
   },
   "source": [
    "**Let’s train**:\n",
    "\n",
    "we will use 10% of the training data as the validation data, hence **validation_spli**t was set to 0.1.\n",
    "\n",
    "**epochs** is the number of training loops we will do. One epoch will expose all of our training data once to the network.\n",
    "\n",
    " More epochs means the network will know better about our data."
   ]
  },
  {
   "cell_type": "code",
   "execution_count": 12,
   "metadata": {
    "colab": {
     "base_uri": "https://localhost:8080/",
     "height": 368
    },
    "id": "hgrhDLbEv3rr",
    "outputId": "5d5b6a7c-1d48-42ec-94f6-e323b8e6ac12"
   },
   "outputs": [
    {
     "name": "stdout",
     "output_type": "stream",
     "text": [
      "Epoch 1/10\n",
      "1688/1688 [==============================] - 2s 1ms/step - loss: 0.7332 - accuracy: 0.7619 - val_loss: 0.5051 - val_accuracy: 0.8235\n",
      "Epoch 2/10\n",
      "1688/1688 [==============================] - 2s 1ms/step - loss: 0.4903 - accuracy: 0.8320 - val_loss: 0.4480 - val_accuracy: 0.8413\n",
      "Epoch 3/10\n",
      "1688/1688 [==============================] - 2s 1ms/step - loss: 0.4527 - accuracy: 0.8449 - val_loss: 0.4461 - val_accuracy: 0.8442\n",
      "Epoch 4/10\n",
      "1688/1688 [==============================] - 2s 1ms/step - loss: 0.4333 - accuracy: 0.8498 - val_loss: 0.4247 - val_accuracy: 0.8530\n",
      "Epoch 5/10\n",
      "1688/1688 [==============================] - 2s 1ms/step - loss: 0.4225 - accuracy: 0.8532 - val_loss: 0.4373 - val_accuracy: 0.8452\n",
      "Epoch 6/10\n",
      "1688/1688 [==============================] - 2s 1ms/step - loss: 0.4134 - accuracy: 0.8572 - val_loss: 0.4301 - val_accuracy: 0.8508\n",
      "Epoch 7/10\n",
      "1688/1688 [==============================] - 2s 1ms/step - loss: 0.4074 - accuracy: 0.8582 - val_loss: 0.4370 - val_accuracy: 0.8498\n",
      "Epoch 8/10\n",
      "1688/1688 [==============================] - 2s 1ms/step - loss: 0.4005 - accuracy: 0.8603 - val_loss: 0.4226 - val_accuracy: 0.8538\n",
      "Epoch 9/10\n",
      "1688/1688 [==============================] - 2s 1ms/step - loss: 0.3968 - accuracy: 0.8619 - val_loss: 0.4162 - val_accuracy: 0.8580\n",
      "Epoch 10/10\n",
      "1688/1688 [==============================] - 2s 1ms/step - loss: 0.3943 - accuracy: 0.8611 - val_loss: 0.4383 - val_accuracy: 0.8437\n"
     ]
    },
    {
     "data": {
      "text/plain": [
       "<tensorflow.python.keras.callbacks.History at 0x7f7eaa619780>"
      ]
     },
     "execution_count": 12,
     "metadata": {
      "tags": []
     },
     "output_type": "execute_result"
    }
   ],
   "source": [
    "model.fit(x_train, y_train, epochs=10, validation_split=0.1)"
   ]
  },
  {
   "cell_type": "markdown",
   "metadata": {
    "id": "lfbjmYY70OhZ"
   },
   "source": [
    "Pretty good. You get **85% accuracy** on validation data.\n"
   ]
  },
  {
   "cell_type": "code",
   "execution_count": 13,
   "metadata": {
    "colab": {
     "base_uri": "https://localhost:8080/",
     "height": 50
    },
    "id": "Yu8gFQLf0YjK",
    "outputId": "562d7fa4-8f02-4846-c207-b795fe2635df"
   },
   "outputs": [
    {
     "name": "stdout",
     "output_type": "stream",
     "text": [
      "313/313 [==============================] - 0s 842us/step - loss: 0.4701 - accuracy: 0.8336\n",
      "0.8335999846458435\n"
     ]
    }
   ],
   "source": [
    "_, test_acc = model.evaluate(x_test, y_test)\n",
    "print(test_acc)"
   ]
  },
  {
   "cell_type": "markdown",
   "metadata": {
    "id": "EXDYW_7e0aRW"
   },
   "source": [
    "And you will get around **84% accuracy on test data**. Good enough for this simple architecture.\n",
    "\n",
    "This is a metric to measure how good the performance of your network is. 84% accuracy on test data means the network guessed right for around 8400 images from the 10K test data.\n",
    "\n",
    "A higher accuracy on test data means a better network. If you think the accuracy should be higher, maybe you need the next step(s) in building your Neural Network.\n",
    "\n",
    "**Make the network wider**: \n",
    "\n",
    "increase the number of hidden layers."
   ]
  },
  {
   "cell_type": "code",
   "execution_count": null,
   "metadata": {
    "id": "6NibDfdS0-hZ"
   },
   "outputs": [],
   "source": [
    "model2 = Sequential()\n",
    "model2.add(Dense(50, input_dim=784, activation='relu'))\n",
    "model2.add(Dense(10, activation='softmax'))\n",
    "\n",
    "model2.compile(loss='categorical_crossentropy', optimizer='adam', metrics=['accuracy'])\n",
    "model2.fit(x_train, y_train, epochs=10, validation_split=0.1)"
   ]
  },
  {
   "cell_type": "code",
   "execution_count": 15,
   "metadata": {
    "colab": {
     "base_uri": "https://localhost:8080/",
     "height": 50
    },
    "id": "lJpKOA6C1GJy",
    "outputId": "f9b0f469-d18e-44b3-b04c-5ea5287c98ae"
   },
   "outputs": [
    {
     "name": "stdout",
     "output_type": "stream",
     "text": [
      "313/313 [==============================] - 0s 935us/step - loss: 0.3757 - accuracy: 0.8684\n",
      "0.868399977684021\n"
     ]
    }
   ],
   "source": [
    "_, test_acc = model2.evaluate(x_test, y_test)\n",
    "print(test_acc)"
   ]
  },
  {
   "cell_type": "markdown",
   "metadata": {
    "id": "w6Rnksjd1Ymp"
   },
   "source": [
    "**Create a deeper network:**\n",
    "\n",
    "Let’s add one more hidden layer with 50 cells."
   ]
  },
  {
   "cell_type": "code",
   "execution_count": 16,
   "metadata": {
    "colab": {
     "base_uri": "https://localhost:8080/",
     "height": 368
    },
    "id": "u2aMnV6A1kUM",
    "outputId": "35b904d2-7eab-40bd-9d9a-4f17970b82c4"
   },
   "outputs": [
    {
     "name": "stdout",
     "output_type": "stream",
     "text": [
      "Epoch 1/10\n",
      "1688/1688 [==============================] - 3s 2ms/step - loss: 0.5319 - accuracy: 0.8140 - val_loss: 0.4441 - val_accuracy: 0.8437\n",
      "Epoch 2/10\n",
      "1688/1688 [==============================] - 3s 2ms/step - loss: 0.3883 - accuracy: 0.8603 - val_loss: 0.4299 - val_accuracy: 0.8482\n",
      "Epoch 3/10\n",
      "1688/1688 [==============================] - 3s 2ms/step - loss: 0.3493 - accuracy: 0.8733 - val_loss: 0.3870 - val_accuracy: 0.8595\n",
      "Epoch 4/10\n",
      "1688/1688 [==============================] - 3s 2ms/step - loss: 0.3295 - accuracy: 0.8810 - val_loss: 0.3592 - val_accuracy: 0.8730\n",
      "Epoch 5/10\n",
      "1688/1688 [==============================] - 3s 2ms/step - loss: 0.3085 - accuracy: 0.8855 - val_loss: 0.3426 - val_accuracy: 0.8743\n",
      "Epoch 6/10\n",
      "1688/1688 [==============================] - 3s 2ms/step - loss: 0.2951 - accuracy: 0.8901 - val_loss: 0.3466 - val_accuracy: 0.8757\n",
      "Epoch 7/10\n",
      "1688/1688 [==============================] - 3s 2ms/step - loss: 0.2837 - accuracy: 0.8946 - val_loss: 0.3167 - val_accuracy: 0.8807\n",
      "Epoch 8/10\n",
      "1688/1688 [==============================] - 3s 2ms/step - loss: 0.2748 - accuracy: 0.8985 - val_loss: 0.3290 - val_accuracy: 0.8823\n",
      "Epoch 9/10\n",
      "1688/1688 [==============================] - 3s 2ms/step - loss: 0.2656 - accuracy: 0.9012 - val_loss: 0.3186 - val_accuracy: 0.8835\n",
      "Epoch 10/10\n",
      "1688/1688 [==============================] - 3s 2ms/step - loss: 0.2577 - accuracy: 0.9041 - val_loss: 0.3257 - val_accuracy: 0.8838\n"
     ]
    },
    {
     "data": {
      "text/plain": [
       "<tensorflow.python.keras.callbacks.History at 0x7f7eaab2a518>"
      ]
     },
     "execution_count": 16,
     "metadata": {
      "tags": []
     },
     "output_type": "execute_result"
    }
   ],
   "source": [
    "model3 = Sequential()\n",
    "model3.add(Dense(50, input_dim=784, activation='relu'))\n",
    "model3.add(Dense(50, activation='relu'))\n",
    "model3.add(Dense(10, activation='softmax'))\n",
    "\n",
    "model3.compile(loss='categorical_crossentropy', optimizer='adam', metrics=['accuracy'])\n",
    "model3.fit(x_train, y_train, epochs=10, validation_split=0.1)"
   ]
  },
  {
   "cell_type": "code",
   "execution_count": 17,
   "metadata": {
    "colab": {
     "base_uri": "https://localhost:8080/",
     "height": 50
    },
    "id": "azolXlZd1oqj",
    "outputId": "11c3a36b-25ba-465c-b31d-e73859120d59"
   },
   "outputs": [
    {
     "name": "stdout",
     "output_type": "stream",
     "text": [
      "313/313 [==============================] - 0s 1ms/step - loss: 0.3539 - accuracy: 0.8767\n",
      "0.8766999840736389\n"
     ]
    }
   ],
   "source": [
    "_, test_acc = model3.evaluate(x_test, y_test)\n",
    "print(test_acc)"
   ]
  },
  {
   "cell_type": "markdown",
   "metadata": {
    "id": "ia6Lgh3y12QK"
   },
   "source": [
    "Maybe our approach is not right by using perceptron on images. How about we change it into:\n",
    "\n",
    "**Convolutional neural network\n",
    "!**\n",
    "\n",
    "**HomeWork:**\n",
    "\n",
    "\n",
    "\n",
    "\n",
    "you can try using Convolutional neural network on this network to see the result."
   ]
  }
 ],
 "metadata": {
  "colab": {
   "collapsed_sections": [],
   "name": "Untitled4.ipynb",
   "provenance": []
  },
  "kernelspec": {
   "display_name": "Python 3",
   "language": "python",
   "name": "python3"
  },
  "language_info": {
   "codemirror_mode": {
    "name": "ipython",
    "version": 3
   },
   "file_extension": ".py",
   "mimetype": "text/x-python",
   "name": "python",
   "nbconvert_exporter": "python",
   "pygments_lexer": "ipython3",
   "version": "3.7.4"
  }
 },
 "nbformat": 4,
 "nbformat_minor": 1
}
