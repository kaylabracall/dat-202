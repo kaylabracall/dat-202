{
 "cells": [
  {
   "cell_type": "markdown",
   "metadata": {},
   "source": [
    "# Data Cleaning"
   ]
  },
  {
   "cell_type": "markdown",
   "metadata": {},
   "source": [
    "## What is data cleaning? \n",
    "\n",
    "Data cleaning is \"detecting and removing errors and inconsistencies from data in order to improve the quality of data.\" (Rahm and Dao)"
   ]
  },
  {
   "cell_type": "markdown",
   "metadata": {},
   "source": [
    "## What are some examples of \"unclean\" data?\n",
    "\n",
    "Data that includes: \n",
    "* spelling errors\n",
    "* missing information\n",
    "* irrelevant data \n",
    "* redundant data\n",
    "* different naming conventions\n",
    "\n",
    "Some causes of unclean data can include human error and different record rention standards across multiple data s"
   ]
  },
  {
   "cell_type": "markdown",
   "metadata": {},
   "source": [
    "## Why is data cleaning important?"
   ]
  },
  {
   "cell_type": "markdown",
   "metadata": {},
   "source": [
    "## What are some methods of data cleaning?"
   ]
  },
  {
   "cell_type": "markdown",
   "metadata": {},
   "source": [
    "Citations\n",
    "* Friedland, D. (n.d.). A Fresh Look at Data Preparation [Web log post]. Retrieved September 24, 2020, from https://www.iri.com/blog/business-intelligence/a-fresh-look-at-data-preparation/"
   ]
  },
  {
   "cell_type": "code",
   "execution_count": null,
   "metadata": {},
   "outputs": [],
   "source": []
  }
 ],
 "metadata": {
  "kernelspec": {
   "display_name": "Python 3",
   "language": "python",
   "name": "python3"
  },
  "language_info": {
   "codemirror_mode": {
    "name": "ipython",
    "version": 3
   },
   "file_extension": ".py",
   "mimetype": "text/x-python",
   "name": "python",
   "nbconvert_exporter": "python",
   "pygments_lexer": "ipython3",
   "version": "3.7.4"
  }
 },
 "nbformat": 4,
 "nbformat_minor": 2
}
