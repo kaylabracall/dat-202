{
 "cells": [
  {
   "cell_type": "markdown",
   "metadata": {},
   "source": [
    "$$\\int_{1}^{2}{\\frac{1}{x}}dx$$"
   ]
  },
  {
   "cell_type": "code",
   "execution_count": 1,
   "metadata": {},
   "outputs": [
    {
     "data": {
      "text/plain": [
       "(0.6931471805599454, 7.695479593116622e-15)"
      ]
     },
     "execution_count": 1,
     "metadata": {},
     "output_type": "execute_result"
    }
   ],
   "source": [
    "from scipy.integrate import quad\n",
    "def integrand(x):\n",
    "    return 1/x \n",
    "\n",
    "I = quad(integrand, 1, 2)\n",
    "I"
   ]
  },
  {
   "cell_type": "markdown",
   "metadata": {},
   "source": [
    "# SciPy\n",
    "## Integration (scipy.integrate)\n",
    "\n",
    "The scipy.integrate sub-package provides several integration techniques including an ordinary differential equation integrator.\n",
    "\n",
    "### General integration (quad)\n",
    "The function quad is provided to integrate a function of one variable between two points. The points can be  ( inf) to indicate infinite limits.\n",
    "\n",
    "For example, suppose that a numerical value for the exponential integral:\n",
    "$$En(x)=\\int_{1}^{\\infty}{\\frac{e^{-xt}}{t^n} } dt$$\n"
   ]
  },
  {
   "cell_type": "code",
   "execution_count": 2,
   "metadata": {},
   "outputs": [
    {
     "data": {
      "text/plain": [
       "(array([0.10969197, 0.05673949, 0.03013338, 0.01629537, 0.00893065,\n",
       "        0.00494538]),\n",
       " array([1.02561713e-08, 5.47009056e-10, 1.32960658e-10, 8.79486248e-09,\n",
       "        2.18803359e-09, 6.46937584e-10]))"
      ]
     },
     "execution_count": 2,
     "metadata": {},
     "output_type": "execute_result"
    }
   ],
   "source": [
    "from scipy.integrate import quad\n",
    "import numpy as np\n",
    "def integrand(t, n, x):\n",
    "    return np.exp(-x*t) / t**n\n",
    "\n",
    "def expint(n, x):\n",
    "    return quad(integrand, 1, np.inf, args=(n, x))\n",
    "\n",
    "vec_expint = np.vectorize(expint)\n",
    "\n",
    "vec_expint(3, np.arange(1.0, 4.0, 0.5))"
   ]
  },
  {
   "cell_type": "markdown",
   "metadata": {},
   "source": [
    "1.Infinite inputs are also allowed in quad by using  +/-inf as one of the arguments\n",
    "\n",
    "2.NumPy provides is a class vectorize to convert an ordinary Python function which accepts scalars and returns scalars into a “vectorized-function” with the same broadcasting rules as other NumPy functions\n",
    "\n"
   ]
  },
  {
   "cell_type": "code",
   "execution_count": 3,
   "metadata": {},
   "outputs": [
    {
     "data": {
      "text/plain": [
       "array([0.10969197, 0.05673949, 0.03013338, 0.01629537, 0.00893065,\n",
       "       0.00494538])"
      ]
     },
     "execution_count": 3,
     "metadata": {},
     "output_type": "execute_result"
    }
   ],
   "source": [
    "import scipy.special as special\n",
    "\n",
    "special.expn(3, np.arange(1.0,4.0,0.5))\n"
   ]
  },
  {
   "cell_type": "markdown",
   "metadata": {},
   "source": [
    "The functionality of the function special.expn can be replicated by defining a new function vec_expint based on the routine quad"
   ]
  },
  {
   "cell_type": "markdown",
   "metadata": {},
   "source": [
    "### General multiple integration (dblquad, tplquad, nquad)\n",
    "1. The mechanics for double and triple integration have been wrapped up into the functions dblquad and tplquad. \n",
    "2. The limits of all inner integrals need to be defined as functions.\n",
    "3. The order of integration (and therefore the bounds) is from the innermost integral to the outermost one.\n",
    "\n",
    "For example:$$I_n=\\int_{0}^{\\infty}\\int_{1}^{\\infty}{\\frac{e^{-xt}}{t^n} } dtdx=\\frac{1}{n}$$"
   ]
  },
  {
   "cell_type": "code",
   "execution_count": 10,
   "metadata": {},
   "outputs": [
    {
     "name": "stdout",
     "output_type": "stream",
     "text": [
      "(0.2500000000043577, 1.29830334693681e-08)\n"
     ]
    }
   ],
   "source": [
    "from scipy.integrate import quad, dblquad\n",
    "def I(n):\n",
    "    return dblquad(lambda t, x: np.exp(-x*t)/t**n, 0, np.inf, lambda x: 1, lambda x: np.inf)\n",
    "\n",
    "print(I(4))"
   ]
  },
  {
   "cell_type": "code",
   "execution_count": 11,
   "metadata": {},
   "outputs": [
    {
     "name": "stdout",
     "output_type": "stream",
     "text": [
      "(0.2000000000189363, 1.3682975855986121e-08)\n"
     ]
    }
   ],
   "source": [
    "print(I(5))"
   ]
  },
  {
   "cell_type": "markdown",
   "metadata": {},
   "source": [
    "For n-fold integration, scipy provides the function nquad. The integration bounds are an iterable object: either a list of constant bounds, or a list of functions for the non-constant integration bounds."
   ]
  },
  {
   "cell_type": "code",
   "execution_count": 12,
   "metadata": {},
   "outputs": [
    {
     "data": {
      "text/plain": [
       "(0.2000000000189363, 1.3682975855986121e-08)"
      ]
     },
     "execution_count": 12,
     "metadata": {},
     "output_type": "execute_result"
    }
   ],
   "source": [
    "from scipy import integrate\n",
    "N = 5\n",
    "def f(t, x):\n",
    "   return np.exp(-x*t) / t**N\n",
    "\n",
    "integrate.nquad(f, [[1, np.inf],[0, np.inf]])"
   ]
  },
  {
   "cell_type": "markdown",
   "metadata": {},
   "source": [
    "Note that the order of arguments for f must match the order of the integration bounds; i.e., the inner integral with respect to t is on the interval [1, $\\infty$]and the outer integral with respect to x is on the interval [0, $\\infty$]"
   ]
  },
  {
   "cell_type": "markdown",
   "metadata": {},
   "source": [
    "## Optimization (scipy.optimize)\n",
    "The scipy.optimize package provides several commonly used optimization algorithms. \n",
    "\n",
    "### Unconstrained minimization of multivariate scalar functions (minimize)\n",
    "The minimize function provides a common interface to unconstrained and constrained minimization algorithms for multivariate scalar functions in scipy.optimize. \n",
    "\n",
    "For example: Finding the minimum value of the function: $$f(x)=x^2+10sin(x)$$\n"
   ]
  },
  {
   "cell_type": "code",
   "execution_count": 37,
   "metadata": {},
   "outputs": [
    {
     "data": {
      "image/png": "[encoded data removed]",
      "text/plain": [
       "<Figure size 720x360 with 1 Axes>"
      ]
     },
     "metadata": {
      "needs_background": "light"
     },
     "output_type": "display_data"
    }
   ],
   "source": [
    "from scipy import optimize\n",
    "import numpy as np\n",
    "import matplotlib.pyplot as plt\n",
    "\n",
    "#Define the target function\n",
    "def f(x):\n",
    "    return x**2+10*np.sin(x)\n",
    "\n",
    "#Draw a graph of the objective function\n",
    "plt.figure(figsize=(10,5))\n",
    "x = np.arange(-10,10,0.5)\n",
    "plt.xlabel('x')\n",
    "plt.ylabel('y')\n",
    "plt.title('optimize')\n",
    "plt.plot(x,f(x),'r-',label='$f(x)=x^2+10sin(x)$')\n",
    "\n",
    "#The lowest point in the graph\n",
    "a = f(-1.3)\n",
    "plt.annotate('min',xy=(-1.3,a),xytext=(3,40),arrowprops=dict(facecolor='black',shrink=0.05))\n",
    "plt.legend()\n",
    "plt.show()\n",
    "\n"
   ]
  },
  {
   "cell_type": "markdown",
   "metadata": {},
   "source": [
    "Obviously, this is a non-convex optimization problem. For this kind of function minimization, usually a gradient descent is performed from the given initial value. BFGS algorithm is usually used for optimize"
   ]
  },
  {
   "cell_type": "code",
   "execution_count": 36,
   "metadata": {},
   "outputs": [
    {
     "name": "stdout",
     "output_type": "stream",
     "text": [
      "Optimization terminated successfully.\n",
      "         Current function value: -7.945823\n",
      "         Iterations: 5\n",
      "         Function evaluations: 18\n",
      "         Gradient evaluations: 6\n"
     ]
    },
    {
     "data": {
      "text/plain": [
       "array([-1.30644012])"
      ]
     },
     "execution_count": 36,
     "metadata": {},
     "output_type": "execute_result"
    }
   ],
   "source": [
    "optimize.fmin_bfgs(f,0)"
   ]
  },
  {
   "cell_type": "markdown",
   "metadata": {},
   "source": [
    "Results showed that after five iterations found a local low 7.945823, obviously this is not a function of global minimum, only a local minimum of the function, it is also a quasi-newton algorithm (BFGS) limitations, if a function has multiple local minima, quasi-newton algorithm can find the global minimum value rather than the local minimum value, which depends on the selection of initial point.If we don't know the global low point and use some neighboring points as the initial point, it will take a lot of time to get the global optimal.\n",
    "\n",
    "A brute force search algorithm can be used to evaluate every point in the range grid"
   ]
  },
  {
   "cell_type": "code",
   "execution_count": 38,
   "metadata": {},
   "outputs": [
    {
     "name": "stdout",
     "output_type": "stream",
     "text": [
      "[-1.30641113]\n"
     ]
    }
   ],
   "source": [
    "grid = (-10, 10, 0.1)\n",
    "xmin_global = optimize.brute(f, (grid,))\n",
    "print(xmin_global)"
   ]
  },
  {
   "cell_type": "markdown",
   "metadata": {},
   "source": [
    "But when the domain of a function is large enough, scipy.optimize.brute( ) becomes very slow. Scipy.optimize.anneal( ) provides an ideal solution, using the simulated annealing algorithm."
   ]
  },
  {
   "cell_type": "markdown",
   "metadata": {},
   "source": [
    "We can use scipy.optimize.fminbound (function,a,b) to get the local lowest point within the specified range ([a,b])"
   ]
  },
  {
   "cell_type": "code",
   "execution_count": 40,
   "metadata": {},
   "outputs": [
    {
     "data": {
      "text/plain": [
       "3.8374672482080348"
      ]
     },
     "execution_count": 40,
     "metadata": {},
     "output_type": "execute_result"
    }
   ],
   "source": [
    "optimize.fminbound (f,3,5)"
   ]
  },
  {
   "cell_type": "markdown",
   "metadata": {},
   "source": [
    "## Homework\n",
    "\n",
    "1. Calculate the following integral: $$I_(a,b)=\\int_{0}^{1}{(ax^2+b)} dx$$ \n",
    "if a=2, b=1, 2, 3, 4, 5,6 \n",
    "\n",
    "2. To demonstrate the minimization function, consider the problem of minimizing the Rosenbrock function of N variables:\n",
    "$$f(x)=\\sum_{i=1}^{N-1}{100(x_{i-1}-{x_i}^2)^2+(1-x_i)^2}$$"
   ]
  },
  {
   "cell_type": "markdown",
   "metadata": {},
   "source": [
    "# Thank you for watching."
   ]
  }
 ],
 "metadata": {
  "kernelspec": {
   "display_name": "Python 3",
   "language": "python",
   "name": "python3"
  },
  "language_info": {
   "codemirror_mode": {
    "name": "ipython",
    "version": 3
   },
   "file_extension": ".py",
   "mimetype": "text/x-python",
   "name": "python",
   "nbconvert_exporter": "python",
   "pygments_lexer": "ipython3",
   "version": "3.7.4"
  }
 },
 "nbformat": 4,
 "nbformat_minor": 4
}
